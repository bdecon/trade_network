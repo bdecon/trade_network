{
 "cells": [
  {
   "cell_type": "markdown",
   "metadata": {},
   "source": [
    "# Trade network analysis\n",
    "**Brian Dew (brianwdew@gmail.com)**\n",
    "\n",
    "**03_deg_dist.ipynb**\n",
    "\n",
    "This notebook estimates an alpha value for the degree distribution for each product in each year.\n",
    "\n",
    "The distribution of weighted indegree and outdegree is estimated as $p(x) = Cx^{-\\alpha}$.\n",
    "\n",
    "Goal: optimize code to speed up performance. The file takes 76 seconds per year, with 30 seconds dedicated to reading the pandas dataframes and splitting them by product, 13 dedicated to building the networks, and another 30 or so dedicated to estimating the distribution. "
   ]
  },
  {
   "cell_type": "code",
   "execution_count": 1,
   "metadata": {
    "collapsed": false
   },
   "outputs": [],
   "source": [
    "import pandas as pd\n",
    "import numpy as np\n",
    "import networkx as nx\n",
    "import powerlaw\n",
    "import os\n",
    "import time\n",
    "os.chdir('C:/Working/trade_network/data/')\n",
    "if not os.path.exists( 'summary/.'):\n",
    "    os.makedirs('summary/.')"
   ]
  },
  {
   "cell_type": "code",
   "execution_count": 2,
   "metadata": {
    "collapsed": false
   },
   "outputs": [],
   "source": [
    "def deg_dist(prod):\n",
    "    \"Calculates the degree distribution for a product\"\n",
    "    try:\n",
    "        G = nx.from_pandas_dataframe(df[df.index == prod], 'i', 'j', 'v', nx.DiGraph())\n",
    "        deg = G.out_degree(weight='v').values()\n",
    "        pld[prod] = powerlaw.Fit(deg).power_law.alpha\n",
    "    except Exception:\n",
    "        pass\n",
    "    return;"
   ]
  },
  {
   "cell_type": "code",
   "execution_count": 4,
   "metadata": {
    "collapsed": false
   },
   "outputs": [],
   "source": [
    "%%capture \n",
    "for y in map(str, range(2008,2015)):         # start year & end year + 1 \n",
    "    # read csv file for year\n",
    "    df = pd.read_csv('clean/baci07_' + y + '_clean.csv', index_col='hs6', header=0)\n",
    "    df = df[['i','j','v']]         # take only relevant columns\n",
    "    pld = {}                        # blank dictionary\n",
    "    map(deg_dist,df.index.unique()) # This runs the program above\n",
    "    pld = pd.Series(pld)            # One series from all dictionaries (fast)\n",
    "    # Save as csv (fast)\n",
    "    pld.to_csv('summary/deg_dist_alpha_' + y + '.csv', index=True, float_format='%g')"
   ]
  }
 ],
 "metadata": {
  "kernelspec": {
   "display_name": "Python 2",
   "language": "python",
   "name": "python2"
  },
  "language_info": {
   "codemirror_mode": {
    "name": "ipython",
    "version": 2
   },
   "file_extension": ".py",
   "mimetype": "text/x-python",
   "name": "python",
   "nbconvert_exporter": "python",
   "pygments_lexer": "ipython2",
   "version": "2.7.10"
  }
 },
 "nbformat": 4,
 "nbformat_minor": 0
}
