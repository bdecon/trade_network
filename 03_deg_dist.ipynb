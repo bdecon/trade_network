{
 "cells": [
  {
   "cell_type": "markdown",
   "metadata": {},
   "source": [
    "# Trade network analysis\n",
    "**Brian Dew (brianwdew@gmail.com)**\n",
    "\n",
    "`03_deg_dist.ipynb`\n",
    "\n",
    "This notebook estimates an alpha value for the degree distribution for each product in each year.\n",
    "\n",
    "The distribution of weighted indegree and outdegree is estimated as $p(x) = Cx^{-\\alpha}$.\n",
    "\n",
    "Powerlaw follows the methods described in Clauset (2011). \n",
    "\n",
    "---\n",
    "\n",
    "METODO:\n",
    "\n",
    "1. Speed up run time. Update: big improvement from sorting the dataframe first and then using df.loc[prod]. Down to about 46 seconds, most of which is coming from the powerlaw line in deg_dist."
   ]
  },
  {
   "cell_type": "markdown",
   "metadata": {},
   "source": [
    "#### Import packages"
   ]
  },
  {
   "cell_type": "code",
   "execution_count": 1,
   "metadata": {
    "collapsed": false
   },
   "outputs": [],
   "source": [
    "# uses panadas, networkx, powerlaw, and os packages\n",
    "import pandas as pd\n",
    "import networkx as nx\n",
    "import powerlaw\n",
    "import os\n",
    "os.chdir('C:/Working/trade_network/data/')        # Change to working directory\n",
    "if not os.path.exists( 'summary/.'):              # Creates folder in directory if missing.\n",
    "    os.makedirs('summary/.')"
   ]
  },
  {
   "cell_type": "markdown",
   "metadata": {},
   "source": [
    "#### Define alpha estimation function\n",
    "\n",
    "This function uses a product ID, `prod` as an input. It builds a `networkx` network for the product, calculates the `out_degree` weighted to the USD value of trade `v` (in thousands), and finally estimates how well the weighted out_degree scores fit a power law distribution. The output is an alpha score for the product. "
   ]
  },
  {
   "cell_type": "code",
   "execution_count": 2,
   "metadata": {
    "collapsed": false
   },
   "outputs": [],
   "source": [
    "# Define function called deg_dist which calculates alpha value of degree distribution.\n",
    "def deg_dist(prod):\n",
    "    \"Calculates the degree distribution for a product\"\n",
    "    try:\n",
    "        G = nx.from_pandas_dataframe(df.loc[prod], 'i', 'j', 'v', nx.DiGraph())  #build network\n",
    "        deg = G.out_degree(weight='v').values()         # calc weighted outdeg for each country\n",
    "        pl_alpha[prod] = powerlaw.Fit(deg).power_law.alpha    # est. distrib. and save alpha value\n",
    "    except Exception:                                   # some products don't converge\n",
    "        pass \n",
    "    return;"
   ]
  },
  {
   "cell_type": "markdown",
   "metadata": {},
   "source": [
    "#### Apply function to all data\n",
    "\n",
    "The fucntion defined above is applied to data for each each in the range. The power law distribution is recorded for each product in a dictionary called `pl_alpha` which is saved as a separate csv file for each year."
   ]
  },
  {
   "cell_type": "code",
   "execution_count": 3,
   "metadata": {
    "collapsed": false
   },
   "outputs": [],
   "source": [
    "%%capture \n",
    "for y in map(str, range(2008,2015)):         # start year & end year + 1 \n",
    "    # read csv file for year\n",
    "    df = pd.read_csv('clean/baci07_' + y + '_clean.csv', index_col='hs6', header=0).sort_index()\n",
    "    df = df[['i','j','v']]         # take only relevant columns\n",
    "    pl_alpha = {}                        # blank dictionary\n",
    "    map(deg_dist,df.index.unique()) # This runs the program above\n",
    "    pl_alpha = pd.Series(pl_alpha)            # One series from all dictionaries\n",
    "    # Save as csv\n",
    "    pl_alpha.to_csv('summary/deg_dist_alpha_' + y + '.csv', index=True, float_format='%g')"
   ]
  }
 ],
 "metadata": {
  "kernelspec": {
   "display_name": "Python 2",
   "language": "python",
   "name": "python2"
  },
  "language_info": {
   "codemirror_mode": {
    "name": "ipython",
    "version": 2
   },
   "file_extension": ".py",
   "mimetype": "text/x-python",
   "name": "python",
   "nbconvert_exporter": "python",
   "pygments_lexer": "ipython2",
   "version": "2.7.10"
  }
 },
 "nbformat": 4,
 "nbformat_minor": 0
}
