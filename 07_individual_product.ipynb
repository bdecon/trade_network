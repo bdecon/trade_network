{
 "cells": [
  {
   "cell_type": "markdown",
   "metadata": {},
   "source": [
    "# Trade network analysis\n",
    "**Brian Dew (brianwdew@gmail.com)**\n",
    "\n",
    "`07_individual_product.ipynb`\n",
    "\n",
    "This notebook summarizes results for an individual product and year. \n",
    "\n",
    "METODO:\n",
    "\n",
    "1. Annotate"
   ]
  },
  {
   "cell_type": "markdown",
   "metadata": {},
   "source": [
    "#### Import packages"
   ]
  },
  {
   "cell_type": "code",
   "execution_count": 14,
   "metadata": {
    "collapsed": false
   },
   "outputs": [],
   "source": [
    "# uses panadas, networkx, powerlaw, and os packages\n",
    "import pandas as pd\n",
    "import networkx as nx\n",
    "import powerlaw\n",
    "import os\n",
    "import matplotlib.pyplot as plt\n",
    "%matplotlib inline\n",
    "from scipy import optimize\n",
    "\n",
    "os.chdir('C:/Working/trade_network/data/')        # Change to working directory"
   ]
  },
  {
   "cell_type": "markdown",
   "metadata": {},
   "source": [
    "#### Build network and fit to distributions\n",
    "\n",
    "The work of deg_dist is repeated here for the product code identified in `prod` "
   ]
  },
  {
   "cell_type": "code",
   "execution_count": 15,
   "metadata": {
    "collapsed": false
   },
   "outputs": [
    {
     "name": "stderr",
     "output_type": "stream",
     "text": [
      "Values less than or equal to 0 in data. Throwing out 0 or negative values\n",
      "Calculating best minimal value for power law fit\n"
     ]
    }
   ],
   "source": [
    "pl_ = {}\n",
    "prod = 90111\n",
    "df = pd.read_csv('clean/baci07_2014_clean.csv', index_col='hs6').sort_index()\n",
    "G = nx.from_pandas_dataframe(df.loc[prod], 'i', 'j', 'v', nx.DiGraph())  #build network\n",
    "deg = G.out_degree(weight='v').values()         # calc weighted outdeg for each country\n",
    "fit = powerlaw.Fit(deg)         # est. distrib. and save alpha value"
   ]
  },
  {
   "cell_type": "markdown",
   "metadata": {},
   "source": [
    "#### Print the estimated values\n",
    "\n",
    "Print estimated alpha value, std dev, and estimated minimum value/cutoff for the distribution"
   ]
  },
  {
   "cell_type": "code",
   "execution_count": 16,
   "metadata": {
    "collapsed": false
   },
   "outputs": [
    {
     "name": "stdout",
     "output_type": "stream",
     "text": [
      "Alpha:  1.34316809034\n",
      "Sigma:  0.0374427083355\n",
      "X-Min:  970.3526\n"
     ]
    }
   ],
   "source": [
    "print 'Alpha: ', fit.power_law.alpha\n",
    "print 'Sigma: ', fit.power_law.sigma\n",
    "print 'X-Min: ', fit.power_law.xmin"
   ]
  },
  {
   "cell_type": "markdown",
   "metadata": {},
   "source": [
    "#### Compare fit\n",
    "\n",
    "Compare the how well the data fit a power law compared to exponential distribution."
   ]
  },
  {
   "cell_type": "code",
   "execution_count": 17,
   "metadata": {
    "collapsed": false
   },
   "outputs": [
    {
     "data": {
      "text/plain": [
       "(130.95966288145141, 3.8383554839378416e-07)"
      ]
     },
     "execution_count": 17,
     "metadata": {},
     "output_type": "execute_result"
    }
   ],
   "source": [
    "fit.distribution_compare('power_law', 'exponential')"
   ]
  },
  {
   "cell_type": "markdown",
   "metadata": {},
   "source": [
    "#### Plot fit\n",
    "\n",
    "How well do the data (solid line) fit the distribution (dashed line)?"
   ]
  },
  {
   "cell_type": "code",
   "execution_count": 19,
   "metadata": {
    "collapsed": false
   },
   "outputs": [
    {
     "data": {
      "image/png": "[encoded data removed]",
      "text/plain": [
       "<matplotlib.figure.Figure at 0x151b4fd0>"
      ]
     },
     "metadata": {},
     "output_type": "display_data"
    }
   ],
   "source": [
    "fig2 = fit.plot_ccdf(label='fitted values', color='b', linewidth=2)\n",
    "fit.power_law.plot_ccdf(label='power law distribution', color='b', linestyle='--', ax=fig2)\n",
    "plt.legend(handlelength=3, fancybox=True, shadow=True, loc=3, prop={'size':10})\n",
    "fig2.text(0.05, 0.95, 'Coffee \\n \\n$\\\\alpha = 1.34$ \\n$\\\\sigma = 0.04$', transform=fig2.transAxes, fontsize=12,\n",
    "        verticalalignment='top')\n",
    "fig2.set_xlabel('$x$')\n",
    "fig2.set_ylabel('P$(X)>x$')\n",
    "plt.savefig('prod/coffee_ccdf.pdf', bbox_inches='tight')"
   ]
  }
 ],
 "metadata": {
  "kernelspec": {
   "display_name": "Python 2",
   "language": "python",
   "name": "python2"
  },
  "language_info": {
   "codemirror_mode": {
    "name": "ipython",
    "version": 2
   },
   "file_extension": ".py",
   "mimetype": "text/x-python",
   "name": "python",
   "nbconvert_exporter": "python",
   "pygments_lexer": "ipython2",
   "version": "2.7.12"
  }
 },
 "nbformat": 4,
 "nbformat_minor": 0
}
