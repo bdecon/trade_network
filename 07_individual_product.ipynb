{
 "cells": [
  {
   "cell_type": "markdown",
   "metadata": {},
   "source": [
    "# Trade network analysis\n",
    "**Brian Dew (brianwdew@gmail.com)**\n",
    "\n",
    "`07_individual_product.ipynb`\n",
    "\n",
    "This notebook summarizes results for an individual product and year. \n",
    "\n",
    "METODO:\n",
    "\n",
    "1. Annotate"
   ]
  },
  {
   "cell_type": "markdown",
   "metadata": {},
   "source": [
    "#### Import packages"
   ]
  },
  {
   "cell_type": "code",
   "execution_count": 8,
   "metadata": {
    "collapsed": false
   },
   "outputs": [],
   "source": [
    "# uses panadas, networkx, powerlaw, and os packages\n",
    "import pandas as pd\n",
    "import networkx as nx\n",
    "import powerlaw\n",
    "import os\n",
    "import matplotlib.pyplot as plt\n",
    "%matplotlib inline\n",
    "from scipy import optimize\n",
    "\n",
    "os.chdir('C:/Working/trade_network/data/')        # Change to working directory"
   ]
  },
  {
   "cell_type": "markdown",
   "metadata": {},
   "source": [
    "#### Build network and fit to distributions\n",
    "\n",
    "The work of deg_dist is repeated here for the product code identified in `prod` "
   ]
  },
  {
   "cell_type": "code",
   "execution_count": 9,
   "metadata": {
    "collapsed": false
   },
   "outputs": [
    {
     "name": "stderr",
     "output_type": "stream",
     "text": [
      "Values less than or equal to 0 in data. Throwing out 0 or negative values\n",
      "Calculating best minimal value for power law fit\n"
     ]
    }
   ],
   "source": [
    "pl_ = {}\n",
    "prod = 270900\n",
    "df = pd.read_csv('clean/baci07_2011_clean.csv', index_col='hs6').sort_index()\n",
    "G = nx.from_pandas_dataframe(df.loc[prod], 'i', 'j', 'v', nx.DiGraph())  #build network\n",
    "deg = G.out_degree(weight='v').values()         # calc weighted outdeg for each country\n",
    "fit = powerlaw.Fit(deg)         # est. distrib. and save alpha value"
   ]
  },
  {
   "cell_type": "markdown",
   "metadata": {},
   "source": [
    "#### Print the estimated values\n",
    "\n",
    "Print estimated alpha value, std dev, and estimated minimum value/cutoff for the distribution"
   ]
  },
  {
   "cell_type": "code",
   "execution_count": 10,
   "metadata": {
    "collapsed": false
   },
   "outputs": [
    {
     "name": "stdout",
     "output_type": "stream",
     "text": [
      "Alpha:  2.78473704121\n",
      "Sigma:  0.515209205587\n",
      "X-Min:  49158802.7\n"
     ]
    }
   ],
   "source": [
    "print 'Alpha: ', fit.power_law.alpha\n",
    "print 'Sigma: ', fit.power_law.sigma\n",
    "print 'X-Min: ', fit.power_law.xmin"
   ]
  },
  {
   "cell_type": "markdown",
   "metadata": {},
   "source": [
    "#### Compare fit\n",
    "\n",
    "Compare the how well the data fit a power law compared to exponential distribution."
   ]
  },
  {
   "cell_type": "code",
   "execution_count": 11,
   "metadata": {
    "collapsed": false
   },
   "outputs": [
    {
     "data": {
      "text/plain": [
       "(2.5595129658444655, 0.13733454955901553)"
      ]
     },
     "execution_count": 11,
     "metadata": {},
     "output_type": "execute_result"
    }
   ],
   "source": [
    "fit.distribution_compare('power_law', 'exponential')"
   ]
  },
  {
   "cell_type": "markdown",
   "metadata": {},
   "source": [
    "#### Plot fit\n",
    "\n",
    "How well do the data (solid line) fit the distribution (dashed line)?"
   ]
  },
  {
   "cell_type": "code",
   "execution_count": 12,
   "metadata": {
    "collapsed": false
   },
   "outputs": [
    {
     "data": {
      "text/plain": [
       "<matplotlib.axes._subplots.AxesSubplot at 0x14a94390>"
      ]
     },
     "execution_count": 12,
     "metadata": {},
     "output_type": "execute_result"
    },
    {
     "data": {
      "image/png": "[encoded data removed]",
      "text/plain": [
       "<matplotlib.figure.Figure at 0x14a76d30>"
      ]
     },
     "metadata": {},
     "output_type": "display_data"
    }
   ],
   "source": [
    "fig2 = fit.plot_ccdf(color='b', linewidth=2)\n",
    "fit.power_law.plot_ccdf(color='b', linestyle='--', ax=fig2)"
   ]
  }
 ],
 "metadata": {
  "kernelspec": {
   "display_name": "Python 2",
   "language": "python",
   "name": "python2"
  },
  "language_info": {
   "codemirror_mode": {
    "name": "ipython",
    "version": 2
   },
   "file_extension": ".py",
   "mimetype": "text/x-python",
   "name": "python",
   "nbconvert_exporter": "python",
   "pygments_lexer": "ipython2",
   "version": "2.7.12"
  }
 },
 "nbformat": 4,
 "nbformat_minor": 0
}
