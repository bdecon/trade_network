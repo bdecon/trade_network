{
 "cells": [
  {
   "cell_type": "markdown",
   "metadata": {},
   "source": [
    "# Trade network analysis\n",
    "**Brian Dew (brianwdew@gmail.com)**\n",
    "\n",
    "`07_individual_product.ipynb`\n",
    "\n",
    "This notebook summarizes results for an individual product and year. \n",
    "\n",
    "METODO:\n",
    "\n",
    "1. Annotate"
   ]
  },
  {
   "cell_type": "markdown",
   "metadata": {},
   "source": [
    "#### Import packages"
   ]
  },
  {
   "cell_type": "code",
   "execution_count": 68,
   "metadata": {
    "collapsed": false
   },
   "outputs": [],
   "source": [
    "# uses panadas, networkx, powerlaw, and os packages\n",
    "import pandas as pd\n",
    "import networkx as nx\n",
    "import powerlaw\n",
    "import os\n",
    "import matplotlib.pyplot as plt\n",
    "%matplotlib inline\n",
    "from scipy import optimize\n",
    "\n",
    "os.chdir('C:/Working/trade_network/data/')        # Change to working directory"
   ]
  },
  {
   "cell_type": "markdown",
   "metadata": {},
   "source": [
    "#### Build network and fit to distributions\n",
    "\n",
    "The work of deg_dist is repeated here for the product code identified in `prod` "
   ]
  },
  {
   "cell_type": "code",
   "execution_count": 90,
   "metadata": {
    "collapsed": false
   },
   "outputs": [
    {
     "name": "stderr",
     "output_type": "stream",
     "text": [
      "Values less than or equal to 0 in data. Throwing out 0 or negative values\n",
      "Calculating best minimal value for power law fit\n"
     ]
    }
   ],
   "source": [
    "pl_ = {}\n",
    "prod = 901890\n",
    "df = pd.read_csv('clean/baci07_2014_clean.csv', index_col='hs6').sort_index()\n",
    "G = nx.from_pandas_dataframe(df.loc[prod], 'i', 'j', 'v', nx.DiGraph())  #build network\n",
    "deg = G.out_degree(weight='v').values()         # calc weighted outdeg for each country\n",
    "fit = powerlaw.Fit(deg)         # est. distrib. and save alpha value"
   ]
  },
  {
   "cell_type": "markdown",
   "metadata": {},
   "source": [
    "#### Print the estimated values\n",
    "\n",
    "Print estimated alpha value, std dev, and estimated minimum value/cutoff for the distribution"
   ]
  },
  {
   "cell_type": "code",
   "execution_count": 91,
   "metadata": {
    "collapsed": false
   },
   "outputs": [
    {
     "name": "stdout",
     "output_type": "stream",
     "text": [
      "Alpha:  2.43375465321\n",
      "Sigma:  0.432293293284\n",
      "X-Min:  1127479.00364\n"
     ]
    }
   ],
   "source": [
    "print 'Alpha: ', fit.power_law.alpha\n",
    "print 'Sigma: ', fit.power_law.sigma\n",
    "print 'X-Min: ', fit.power_law.xmin"
   ]
  },
  {
   "cell_type": "markdown",
   "metadata": {},
   "source": [
    "#### Compare fit\n",
    "\n",
    "Compare the how well the data fit a power law compared to exponential distribution."
   ]
  },
  {
   "cell_type": "code",
   "execution_count": 92,
   "metadata": {
    "collapsed": false
   },
   "outputs": [
    {
     "data": {
      "text/plain": [
       "(1.2355425201285062, 0.36866109307124961)"
      ]
     },
     "execution_count": 92,
     "metadata": {},
     "output_type": "execute_result"
    }
   ],
   "source": [
    "fit.distribution_compare('power_law', 'exponential')"
   ]
  },
  {
   "cell_type": "markdown",
   "metadata": {},
   "source": [
    "#### Plot fit\n",
    "\n",
    "How well do the data (solid line) fit the distribution (dashed line)?"
   ]
  },
  {
   "cell_type": "code",
   "execution_count": 89,
   "metadata": {
    "collapsed": false
   },
   "outputs": [
    {
     "data": {
      "image/png": "[encoded data removed]",
      "text/plain": [
       "<matplotlib.figure.Figure at 0xddd7da0>"
      ]
     },
     "metadata": {},
     "output_type": "display_data"
    }
   ],
   "source": [
    "fig2 = fit.plot_ccdf(label='fitted values', color='b', linewidth=2)\n",
    "fit.power_law.plot_ccdf(label='power law distribution', color='b', linestyle='--', ax=fig2)\n",
    "plt.legend(handlelength=3, fancybox=True, shadow=True, loc=3, prop={'size':10})\n",
    "fig2.text(0.05, 0.95, 'Instruments used in \\n \\n$\\\\alpha = 2.43$ \\n$\\\\sigma = 0.43$', transform=fig2.transAxes, fontsize=12,\n",
    "        verticalalignment='top')\n",
    "plt.savefig('cathode_ccdf.pdf', bbox_inches='tight')"
   ]
  }
 ],
 "metadata": {
  "kernelspec": {
   "display_name": "Python 2",
   "language": "python",
   "name": "python2"
  },
  "language_info": {
   "codemirror_mode": {
    "name": "ipython",
    "version": 2
   },
   "file_extension": ".py",
   "mimetype": "text/x-python",
   "name": "python",
   "nbconvert_exporter": "python",
   "pygments_lexer": "ipython2",
   "version": "2.7.12"
  }
 },
 "nbformat": 4,
 "nbformat_minor": 0
}
