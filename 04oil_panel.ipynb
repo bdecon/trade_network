{
 "cells": [
  {
   "cell_type": "markdown",
   "metadata": {},
   "source": [
    "# Trade Network Analysis\n",
    "`04oil_panel.ipynb`\n",
    "\n",
    "Requires:\n",
    "1. `centrality_scores_DOT.csv` from `02oil_centrality_DOT.ipynb`\n",
    "2. `imf_data_oil.csv` from `03oil_IFS.ipynb`\n",
    "\n",
    "Runs an OLS regression on the panel data above, with time fixed effects. The estimated equation is:\n",
    "\n",
    "$$ \\Delta \\text{ln} X_{i,t} = \\delta_{t} + \\beta_1 \\Delta \\text{ln} X_{i,t-1} + \\beta_2 \\Delta q_{i,t-1} + \\beta_3 ( \\Delta p_{t} \\times c_{i,t-1}) + \\varepsilon_{i,t} $$ \n",
    "\n",
    "\n",
    "\n",
    "---\n",
    "\n",
    "METODO:\n",
    "1. Improve description\n",
    "2. Review for errors!\n",
    "3. Statsmodels instead of pandas!"
   ]
  },
  {
   "cell_type": "markdown",
   "metadata": {},
   "source": [
    "#### Libraries"
   ]
  },
  {
   "cell_type": "code",
   "execution_count": 1,
   "metadata": {
    "collapsed": true
   },
   "outputs": [],
   "source": [
    "import pandas as pd                                         # pandas dataframes used for convenience\n",
    "from pandas.stats.plm import PanelOLS\n",
    "import numpy as np\n",
    "import os                                                   # change current directory in next line\n",
    "os.chdir('C:/Working/trade_network/data/')"
   ]
  },
  {
   "cell_type": "code",
   "execution_count": 2,
   "metadata": {
    "collapsed": false
   },
   "outputs": [],
   "source": [
    "ifs = pd.read_csv('imf_data_oil.csv', index_col='date')\n",
    "ifs1 = ifs.rename(columns={'level_0':'iso2',\"('mp', u'@OBS_VALUE')\":'mp',\"('x', u'@OBS_VALUE')\":'x',\n",
    "                    \"('xp', u'@OBS_VALUE')\":'xp',\"('q', u'@OBS_VALUE')\":'q','@OBS_VALUE':'p'\n",
    "                   })[['iso2','full_name','p','mp','q','x','xp']].reset_index().set_index(['date','iso2']).dropna()\n",
    "cent = pd.read_csv('centrality_scores_DOT.csv', index_col=['date','iso2'])\n",
    "panel = ifs1.join(cent).dropna()\n",
    "panel = panel.reset_index()\n",
    "panel['date'] = pd.to_datetime(panel['date'],infer_datetime_format=True)\n",
    "panel = panel.set_index(['date','iso2'])"
   ]
  },
  {
   "cell_type": "markdown",
   "metadata": {},
   "source": [
    "#### Deflate USD values with price indices"
   ]
  },
  {
   "cell_type": "code",
   "execution_count": 3,
   "metadata": {
    "collapsed": false,
    "scrolled": true
   },
   "outputs": [],
   "source": [
    "deflators = {'x': 'xp', 'idw': 'mp', 'odw': 'xp'}\n",
    "for k, v in deflators.iteritems():\n",
    "    panel[k+'_def'] = np.log(panel[k] * (panel[v] / 100))\n",
    "\n",
    "panel['q_ch'] = panel['q'].groupby(panel.index.get_level_values(1)).pct_change()"
   ]
  },
  {
   "cell_type": "code",
   "execution_count": 4,
   "metadata": {
    "collapsed": false
   },
   "outputs": [],
   "source": [
    "panel['x_ch'] = panel['x_def'].groupby(panel.index.get_level_values(1)).diff(periods=1)\n",
    "panel['p'] = np.log(panel['p'])\n",
    "panel['p_ch'] = panel['p'].groupby(panel.index.get_level_values(1)).diff(periods=1)\n",
    "\n",
    "# Drop unbalanced countries\n",
    "obs_size = pd.DataFrame(panel.groupby('full_name').size())\n",
    "panel = panel.join(obs_size, on='full_name')\n",
    "panel = panel[panel[0] == panel[0].max()]\n",
    "panel['c'] = ( panel['ecx'] * panel['p_ch'])\n",
    "\n",
    "panel.to_csv('panel_oil.csv')"
   ]
  },
  {
   "cell_type": "code",
   "execution_count": 5,
   "metadata": {
    "collapsed": false
   },
   "outputs": [],
   "source": [
    "#reg  = PanelOLS(y=panel['x_ch'],x=panel[['x_def', 'q_ch', 'c']],time_effects=True)\n",
    "#reg"
   ]
  }
 ],
 "metadata": {
  "kernelspec": {
   "display_name": "Python 2",
   "language": "python",
   "name": "python2"
  },
  "language_info": {
   "codemirror_mode": {
    "name": "ipython",
    "version": 2
   },
   "file_extension": ".py",
   "mimetype": "text/x-python",
   "name": "python",
   "nbconvert_exporter": "python",
   "pygments_lexer": "ipython2",
   "version": "2.7.12"
  }
 },
 "nbformat": 4,
 "nbformat_minor": 0
}
