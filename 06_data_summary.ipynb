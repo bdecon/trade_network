{
 "cells": [
  {
   "cell_type": "markdown",
   "metadata": {},
   "source": [
    "# Trade network analysis\n",
    "**Brian Dew (brianwdew@gmail.com)**\n",
    "\n",
    "`06_data_summary.ipynb`\n",
    "\n",
    "Requires:\n",
    "\n",
    "1. Cleaned trade data created by `02_clean.ipynb`\n",
    "2. `product_code_baci_07.csv` from CEPII: http://www.cepii.fr/DATA_DOWNLOAD/baci/country_code_baci07.csv\n",
    "3. Distribution estimates from `03_deg_dist.ipynb`\n",
    "\n",
    "Creates a csv file for each year with the list of product codes, the value and volume of trade, the number of imports and number of exporters, the alpha value estimated in `03_deg_dist`, the standard deviation of the estimate, and the full name of the product. \n",
    "\n",
    "---\n",
    "\n",
    "METODO:\n",
    "\n",
    "1. Speed up run time if poss."
   ]
  },
  {
   "cell_type": "markdown",
   "metadata": {},
   "source": [
    "## Product Level Summary"
   ]
  },
  {
   "cell_type": "markdown",
   "metadata": {},
   "source": [
    "#### Packages"
   ]
  },
  {
   "cell_type": "code",
   "execution_count": 1,
   "metadata": {
    "collapsed": true
   },
   "outputs": [],
   "source": [
    "import pandas as pd                                 # pandas dataframes used for convenience\n",
    "import os \n",
    "\n",
    "os.chdir('C:/Working/trade_network/data/')          # change current directory in next line"
   ]
  },
  {
   "cell_type": "markdown",
   "metadata": {},
   "source": [
    "#### Basic summary: Ranking of Products\n"
   ]
  },
  {
   "cell_type": "code",
   "execution_count": 2,
   "metadata": {
    "collapsed": false
   },
   "outputs": [],
   "source": [
    "# Create a dictionary of HS six digit level product codes \n",
    "prod_names = pd.read_csv('product_code_baci07.csv', index_col='hs6')['name']\n",
    "\n",
    "for y in map(str, range(2008,2015)):\n",
    "    baci_clean = 'clean/baci07_'+y+'_clean.csv'        # the cleaned dataset for each year\n",
    "    alpha_csv = 'summary/deg_dist_alpha_'+y+'.csv'     # alpha values estimated previously\n",
    "    # Calcuate value and quantity/volume:\n",
    "    val_qty_frame = pd.read_csv(baci_clean)[['hs6', 'v', 'q']].groupby('hs6').sum()\n",
    "    # Calculate number of exporters:\n",
    "    num_x = pd.read_csv(baci_clean)[['hs6', 'i']].groupby('hs6')['i'].nunique()\n",
    "    # Calculate number of importers:\n",
    "    num_m = pd.read_csv(baci_clean)[['hs6', 'j']].groupby('hs6')['j'].nunique()\n",
    "    # Open alpha scores, merge them in and save results as CSV:\n",
    "    alpha = pd.read_csv(alpha_csv, header=None).rename(columns={0: 'hs6', 1: 'alpha', 2: 'sigma'})\n",
    "    full_year = val_qty_frame.join(num_x).join(num_m).join(alpha.set_index('hs6'))\n",
    "    full_year.join(prod_names).to_csv('summary/product_'+y+'.csv')"
   ]
  }
 ],
 "metadata": {
  "kernelspec": {
   "display_name": "Python 2",
   "language": "python",
   "name": "python2"
  },
  "language_info": {
   "codemirror_mode": {
    "name": "ipython",
    "version": 2
   },
   "file_extension": ".py",
   "mimetype": "text/x-python",
   "name": "python",
   "nbconvert_exporter": "python",
   "pygments_lexer": "ipython2",
   "version": "2.7.12"
  }
 },
 "nbformat": 4,
 "nbformat_minor": 0
}
