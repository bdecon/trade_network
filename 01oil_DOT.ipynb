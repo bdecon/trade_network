{
 "cells": [
  {
   "cell_type": "markdown",
   "metadata": {},
   "source": [
    "# Trade network analysis\n",
    "**Brian Dew (brianwdew@gmail.com)**\n",
    "\n",
    "`01oil_DOT.ipynb`\n",
    "\n",
    "Builds a set of bilateral trading relationships for each period between ( and ). The source is the IMF's Direction of Trade Statistics (DOTS), with data retrieved through the JSON RESTful API CompactData method.\n",
    "\n",
    "Required file:\n",
    "\n",
    "* c_list.csv - List of countries to keep. Regions are dropped.\n",
    "\n",
    "---\n",
    "\n",
    "   "
   ]
  },
  {
   "cell_type": "markdown",
   "metadata": {},
   "source": [
    "#### Libraries"
   ]
  },
  {
   "cell_type": "code",
   "execution_count": 15,
   "metadata": {
    "collapsed": true
   },
   "outputs": [],
   "source": [
    "import requests                                             # For requesting json data from the url\n",
    "import pandas as pd                                         # pandas dataframes used for convenience\n",
    "import numpy as np\n",
    "import os                                                   # change current directory in next line\n",
    "os.chdir('C:/Working/trade_network/data')"
   ]
  },
  {
   "cell_type": "markdown",
   "metadata": {},
   "source": [
    "#### Define local variables"
   ]
  },
  {
   "cell_type": "code",
   "execution_count": 16,
   "metadata": {
    "collapsed": true
   },
   "outputs": [],
   "source": [
    "webserv = 'http://dataservices.imf.org/REST/SDMX_JSON.svc/' # the main URL for the JSON rest API\n",
    "methodCD = 'CompactData/'                                     # CompactData contains only the data \n",
    "methodDS = 'DataStructure/' # This method gives info on the country names, units, and indicator names\n",
    "series = 'DOT'                                              # International Financial Statistics series"
   ]
  },
  {
   "cell_type": "markdown",
   "metadata": {},
   "source": [
    "#### Obtain unit multiplier code list"
   ]
  },
  {
   "cell_type": "code",
   "execution_count": 17,
   "metadata": {
    "collapsed": true
   },
   "outputs": [],
   "source": [
    "urlDS = webserv+methodDS+series   # url to access IMF datastructure method API\n",
    "# Request data from IMF JSON RESTful API URL above. Navigate to the code list:\n",
    "dataDS = requests.get(urlDS).json()['Structure']['CodeLists']['CodeList']#\n",
    "\n",
    "df = pd.DataFrame(dataDS[0]['Code']).set_index('@value')               # unit codes\n",
    "unit_codes = {m : df['Annotations'].loc[m]['Annotation'][2]['AnnotationText']['#text'] \n",
    "              for m in df.index.values}"
   ]
  },
  {
   "cell_type": "markdown",
   "metadata": {},
   "source": [
    "#### Collect Data"
   ]
  },
  {
   "cell_type": "code",
   "execution_count": 18,
   "metadata": {
    "collapsed": false
   },
   "outputs": [],
   "source": [
    "full_data = {}\n",
    "country_list = pd.read_csv('c_list.csv', header=None)[0].values\n",
    "country_list = np.append(country_list, 'NA')\n",
    "for cty in country_list:\n",
    "    try:\n",
    "        url = webserv+methodCD+series+'/A.'+cty+'.TMG_CIF_USD..?startPeriod=2008&endPeriod=2015'\n",
    "        raw = requests.get(url).json()\n",
    "        df = pd.DataFrame(raw['CompactData']['DataSet']['Series'])\n",
    "        df = df[df['@COUNTERPART_AREA'].isin(country_list)].set_index('@COUNTERPART_AREA')\n",
    "        df['@UNIT_MULT'] = df['@UNIT_MULT'].map(unit_codes) # match unit codes with unit multipliers\n",
    "        df = df[df['Obs'].apply(lambda x: isinstance(x, list))] # drops empties\n",
    "        d = {} # temporary dict to save country by country dataframes\n",
    "        for c in df.index.values: # index values are countries (@REF_AREA) as set above\n",
    "            d[c] = pd.DataFrame(df.loc[c]['Obs']).rename(columns={'@TIME_PERIOD':'date'})\n",
    "            # Multiply units by unity multiplier value. \n",
    "            d[c]['@OBS_VALUE'] = pd.to_numeric(d[c]['@OBS_VALUE']) * int(df['@UNIT_MULT'][c]) \n",
    "        # Concatenate all country rows into one dataframe for each indicator:\n",
    "        fd = pd.concat(d, axis=0).reset_index().set_index('date')\n",
    "        fd = fd.rename(columns={'level_0':'j', '@OBS_VALUE': 'x'})\n",
    "        fd['i'] = cty\n",
    "        full_data[cty] = fd[['i', 'j', 'x']].sort_index()\n",
    "    except Exception:                                   # some products don't converge\n",
    "        pass "
   ]
  },
  {
   "cell_type": "code",
   "execution_count": null,
   "metadata": {
    "collapsed": false
   },
   "outputs": [],
   "source": []
  },
  {
   "cell_type": "code",
   "execution_count": 19,
   "metadata": {
    "collapsed": false
   },
   "outputs": [],
   "source": [
    "full_data_clean = pd.concat(full_data, axis=0).reset_index().set_index('date')[['i', 'j', 'x']].sort_index()\n",
    "full_data_clean = full_data_clean[full_data_clean.x != 0]\n",
    "full_data_clean.to_csv('A_DOTS_all.csv')"
   ]
  }
 ],
 "metadata": {
  "kernelspec": {
   "display_name": "Python 2",
   "language": "python",
   "name": "python2"
  },
  "language_info": {
   "codemirror_mode": {
    "name": "ipython",
    "version": 2
   },
   "file_extension": ".py",
   "mimetype": "text/x-python",
   "name": "python",
   "nbconvert_exporter": "python",
   "pygments_lexer": "ipython2",
   "version": "2.7.12"
  }
 },
 "nbformat": 4,
 "nbformat_minor": 0
}
