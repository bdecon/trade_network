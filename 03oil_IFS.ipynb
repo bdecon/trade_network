{
 "cells": [
  {
   "cell_type": "markdown",
   "metadata": {},
   "source": [
    "# Trade network analysis\n",
    "**Brian Dew (brianwdew@gmail.com)**\n",
    "\n",
    "`03oil_IFS.ipynb`\n",
    "\n",
    "Gather additional macroeconomic data from the International Financial Statistics (IFS) series in the IMF API.\n",
    "\n",
    "Required file:\n",
    "\n",
    "* region_codes.csv -- maps regions to countries with missing price data\n",
    "\n",
    "---\n",
    "\n",
    "   "
   ]
  },
  {
   "cell_type": "markdown",
   "metadata": {},
   "source": [
    "#### Libraries"
   ]
  },
  {
   "cell_type": "code",
   "execution_count": 2,
   "metadata": {
    "collapsed": true
   },
   "outputs": [],
   "source": [
    "import requests                                             # For requesting json data from the url\n",
    "import pandas as pd                                         # pandas dataframes used for convenience\n",
    "import os                                                   # change current directory in next line\n",
    "os.chdir('C:/Working/trade_network/data/')"
   ]
  },
  {
   "cell_type": "markdown",
   "metadata": {},
   "source": [
    "#### Name local variables"
   ]
  },
  {
   "cell_type": "code",
   "execution_count": 3,
   "metadata": {
    "collapsed": true
   },
   "outputs": [],
   "source": [
    "webserv = 'http://dataservices.imf.org/REST/SDMX_JSON.svc/' # the main URL for the JSON rest API\n",
    "methodCD = 'CompactData/'                                     # CompactData contains only the data \n",
    "methodDS = 'DataStructure/' # This method gives info on the country names, units, and indicator names\n",
    "series = 'IFS'                                              # International Financial Statistics series\n",
    "freq = 'M'                                                  # Annual\n",
    "# Set of IFS indicators of interest \n",
    "inds = {'x': 'TXG_FOB_USD', 'q': 'EREER_IX', 'mp': 'TMG_D_USD_CIF_IX', 'xp': 'TXG_D_USD_FOB_IX'}  \n",
    "date = '?startPeriod=2008&endPeriod=2015'                   # Date range of interest\n",
    "wticall = 'COMMP/M..POILWTI_USD.'"
   ]
  },
  {
   "cell_type": "markdown",
   "metadata": {},
   "source": [
    "#### Request data on area names, indicator names, and unit multiplier codes"
   ]
  },
  {
   "cell_type": "code",
   "execution_count": 10,
   "metadata": {
    "collapsed": true
   },
   "outputs": [],
   "source": [
    "urlDS = webserv+methodDS+series   # url to access IMF datastructure method API\n",
    "# Request data from IMF JSON RESTful API URL above. Navigate to the code list:\n",
    "dataDS = requests.get(urlDS).json()['Structure']['CodeLists']['CodeList']#\n",
    "\n",
    "df = pd.DataFrame(dataDS[2]['Code']).set_index('@value')               # area names here\n",
    "area_names = {c : df['Description'].loc[c]['#text'] for c in df.index.values}\n",
    "\n",
    "df = pd.DataFrame(dataDS[3]['Code']).set_index('@value')               # indicator codes\n",
    "ifs_inds = {i : df['Description'].loc[i]['#text'] for i in df.index.values}\n",
    "\n",
    "df = pd.DataFrame(dataDS[0]['Code']).set_index('@value')               # unit codes\n",
    "unit_codes = {m : df['Annotations'].loc[m]['Annotation'][2]['AnnotationText']['#text'] \n",
    "              for m in df.index.values}\n",
    "# A csv file maps countries with missing price data to their regions, and this is read below:\n",
    "region_codes = pd.read_csv('region_codes.csv', header=None, index_col=0).to_dict()[1] # id'd manually"
   ]
  },
  {
   "cell_type": "markdown",
   "metadata": {},
   "source": [
    "Request oil price and IFS data"
   ]
  },
  {
   "cell_type": "code",
   "execution_count": 11,
   "metadata": {
    "collapsed": false
   },
   "outputs": [],
   "source": [
    "# Obtain oil price data from COMMP series:\n",
    "url = webserv + methodCD + wticall + date\n",
    "data = requests.get(url).json()\n",
    "wti = pd.DataFrame(data['CompactData']['DataSet']['Series']['Obs']).set_index('@TIME_PERIOD')\n",
    "wti = wti.reset_index().rename(columns={'@TIME_PERIOD': 'date'}).set_index('date')\n",
    "\n",
    "fd = {} # dictionary for saving each series from inds above\n",
    "unit_mult = {} # dictionary for saving unit multipliers by country and indicator\n",
    "for k, v in inds.iteritems(): # k is the key and v is the value\n",
    "    url = webserv+methodCD+series+'/'+freq+'..'+v+'.'+date # print url to see\n",
    "    # Build a dataframe for each indicator with the raw data from the IMF API:\n",
    "    df = pd.DataFrame(requests.get(url).json()\n",
    "                      ['CompactData']['DataSet']['Series']).set_index('@REF_AREA')\n",
    "    df['@UNIT_MULT'] = df['@UNIT_MULT'].map(unit_codes) # match unit codes with unit multipliers\n",
    "    df = df[df['Obs'].apply(lambda x: isinstance(x, list))] # drops empties\n",
    "    d = {} # temporary dict to save country by country dataframes\n",
    "    for c in df.index.values: # index values are countries (@REF_AREA) as set above\n",
    "        d[c] = pd.DataFrame(df.loc[c]['Obs']).rename(columns={'@TIME_PERIOD':'date'})\n",
    "        # Multiply units by unity multiplier value. \n",
    "        d[c]['@OBS_VALUE'] = pd.to_numeric(d[c]['@OBS_VALUE']) * int(df['@UNIT_MULT'][c]) \n",
    "    # Concatenate all country rows into one dataframe for each indicator:\n",
    "    fd[k]= pd.concat(d, axis=0).reset_index().set_index(['level_0','date']).drop('level_1', 1) "
   ]
  },
  {
   "cell_type": "markdown",
   "metadata": {},
   "source": [
    "#### Clean up"
   ]
  },
  {
   "cell_type": "code",
   "execution_count": 12,
   "metadata": {
    "collapsed": true
   },
   "outputs": [],
   "source": [
    "date_range = fd['xp'].loc['DE'].reset_index().date.values  # Germany selected (automate!)\n",
    "p_subinds = ['@BASE_YEAR' ,'@OBS_VALUE']       # To save space below var = sub indicators for prices\n",
    "for k, v in region_codes.iteritems():           # region_codes is a dict: {country code: region code}\n",
    "    for date in date_range:                     # repeate the replacement for each year in the data.\n",
    "        fd['mp'].loc[(k, date), p_subinds] = fd['mp'].loc[(v, date), p_subinds]\n",
    "        fd['xp'].loc[(k, date), p_subinds] = fd['xp'].loc[(v, date), p_subinds] "
   ]
  },
  {
   "cell_type": "markdown",
   "metadata": {},
   "source": [
    "#### Merge and save"
   ]
  },
  {
   "cell_type": "code",
   "execution_count": 29,
   "metadata": {
    "collapsed": true
   },
   "outputs": [],
   "source": [
    "# The last step is to merge the various indicator values (prices, exports, etc) into one dataframe        \n",
    "merged = pd.concat(fd, axis=1).reset_index() # combine all series to one merged dataframe\n",
    "merged['full_name'] = merged['level_0'].map(area_names)    # add column with full name of area\n",
    "merged = merged.set_index(['level_0','full_name','date'])  # set index to country and date\n",
    "merged = merged.join(wti)\n",
    "merged.to_csv('imf_data_oil.csv')                      # drop missing and save as csv file"
   ]
  }
 ],
 "metadata": {
  "kernelspec": {
   "display_name": "Python 2",
   "language": "python",
   "name": "python2"
  },
  "language_info": {
   "codemirror_mode": {
    "name": "ipython",
    "version": 2
   },
   "file_extension": ".py",
   "mimetype": "text/x-python",
   "name": "python",
   "nbconvert_exporter": "python",
   "pygments_lexer": "ipython2",
   "version": "2.7.12"
  }
 },
 "nbformat": 4,
 "nbformat_minor": 0
}
