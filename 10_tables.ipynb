{
 "cells": [
  {
   "cell_type": "markdown",
   "metadata": {},
   "source": [
    "# Trade network analysis\n",
    "**Brian Dew (brianwdew@gmail.com)**\n",
    "\n",
    "`10_tables.ipynb`\n",
    "\n",
    "Generates LaTeX tables with summary statistics on:\n",
    "\n",
    "Required file:\n",
    "\n",
    "* `panel.csv` - created by `09_panel.ipynb`\n",
    "\n",
    "---\n",
    "\n",
    "METODO: \n",
    "\n",
    "Annotate and expand"
   ]
  },
  {
   "cell_type": "markdown",
   "metadata": {},
   "source": [
    "#### Libraries"
   ]
  },
  {
   "cell_type": "code",
   "execution_count": 7,
   "metadata": {
    "collapsed": true
   },
   "outputs": [],
   "source": [
    "import pandas as pd                                         # pandas dataframes used for convenience\n",
    "import os                                                   # change current directory in next line\n",
    "import numpy as np\n",
    "\n",
    "os.chdir('C:/Working/trade_network/data/')"
   ]
  },
  {
   "cell_type": "markdown",
   "metadata": {},
   "source": [
    "#### Summary of largest exporters"
   ]
  },
  {
   "cell_type": "code",
   "execution_count": 8,
   "metadata": {
    "collapsed": false
   },
   "outputs": [],
   "source": [
    "df = pd.read_csv('panel.csv', index_col=['iso2', 'date'], parse_dates=['date'], header=0)\n",
    "df['x'] = df['x'] / 1000000000\n",
    "df['tot_ch_x'] = df['x_def'].groupby(df.index.get_level_values(0)).diff(periods=8) \n",
    "df['ann_ch_x'] = df['x_def'].groupby(df.index.get_level_values(0)).diff(periods=1) \n",
    "std_dev = df['ann_ch_x'].groupby(df.index.get_level_values(0)).std()"
   ]
  },
  {
   "cell_type": "code",
   "execution_count": 9,
   "metadata": {
    "collapsed": false
   },
   "outputs": [
    {
     "name": "stdout",
     "output_type": "stream",
     "text": [
      "\\begin{tabular}{lrrr}\n",
      "\\toprule\n",
      "                                         full\\_name &   x\\_ndef &  tot\\_ch\\_x &  ann\\_ch\\_x \\\\\n",
      "                                                   &          &           &           \\\\\n",
      "\\midrule\n",
      "                                             China &  2307.97 &      0.82 &      0.23 \\\\\n",
      " Euro area (Member States and Institutions of t... &  2143.09 &      0.05 &      0.21 \\\\\n",
      "                                     United States &  1514.26 &      0.34 &      0.17 \\\\\n",
      "                                           Germany &  1224.68 &     -0.14 &      0.20 \\\\\n",
      "                                             Japan &   506.32 &     -0.25 &      0.22 \\\\\n",
      "                                            France &   467.13 &     -0.15 &      0.20 \\\\\n",
      "                                             Italy &   448.01 &     -0.05 &      0.23 \\\\\n",
      "                                    United Kingdom &   422.77 &     -0.09 &      0.23 \\\\\n",
      "                                       Netherlands &   391.46 &     -0.20 &      0.26 \\\\\n",
      "                                           Belgium &   369.06 &     -0.14 &      0.24 \\\\\n",
      "                                            Canada &   351.46 &     -0.12 &      0.31 \\\\\n",
      "                                            Mexico &   341.42 &      0.34 &      0.29 \\\\\n",
      "                                         Singapore &   308.25 &      0.07 &      0.25 \\\\\n",
      "                                Russian Federation &   303.69 &     -0.16 &      0.38 \\\\\n",
      "                                             Spain &   251.34 &     -0.06 &      0.23 \\\\\n",
      "                                          Malaysia &   201.93 &      0.32 &      0.25 \\\\\n",
      "                                       Switzerland &   187.55 &      0.10 &      0.21 \\\\\n",
      "                                            Poland &   177.32 &      0.24 &      0.24 \\\\\n",
      "                                    Czech Republic &   149.28 &      0.21 &      0.23 \\\\\n",
      "                                            Brazil &   149.09 &      0.03 &      0.38 \\\\\n",
      "                                         Australia &   138.78 &      0.27 &      0.41 \\\\\n",
      "                                           Austria &   137.91 &     -0.12 &      0.22 \\\\\n",
      "                                      Saudi Arabia &   135.28 &     -0.37 &      0.66 \\\\\n",
      "                                            Sweden &   117.68 &     -0.38 &      0.26 \\\\\n",
      "                                            Norway &    83.30 &     -0.48 &      0.46 \\\\\n",
      "                                           Hungary &    79.96 &     -0.24 &      0.22 \\\\\n",
      "                                           Denmark &    79.55 &     -0.25 &      0.23 \\\\\n",
      "                                      South Africa &    71.68 &      0.10 &      0.34 \\\\\n",
      "                                            Israel &    67.45 &      0.33 &      0.20 \\\\\n",
      "                                          Slovakia &    66.94 &      0.12 &      0.26 \\\\\n",
      "                                       Philippines &    59.24 &      0.34 &      0.22 \\\\\n",
      "                                             Chile &    57.47 &     -0.05 &      0.31 \\\\\n",
      "                                           Romania &    53.90 &      0.27 &      0.27 \\\\\n",
      "                                          Portugal &    52.38 &      0.06 &      0.23 \\\\\n",
      "                                           Finland &    50.59 &     -0.65 &      0.28 \\\\\n",
      "                         Iran, Islamic Republic of &    42.14 &     -0.50 &      0.58 \\\\\n",
      "                                           Ukraine &    33.92 &     -0.40 &      0.40 \\\\\n",
      "                                          Colombia &    31.93 &      0.18 &      0.40 \\\\\n",
      "                                       New Zealand &    31.21 &      0.19 &      0.34 \\\\\n",
      "                                          Pakistan &    25.15 &      0.52 &      0.21 \\\\\n",
      "                                           Algeria &    23.50 &     -0.76 &      0.66 \\\\\n",
      "                                            Greece &    23.08 &     -0.09 &      0.29 \\\\\n",
      "                                          Bulgaria &    22.91 &      0.18 &      0.31 \\\\\n",
      "                                           Ecuador &    16.44 &      0.28 &      0.40 \\\\\n",
      "                                           Morocco &    14.64 &      0.13 &      0.51 \\\\\n",
      "                                        Luxembourg &    12.39 &     -0.26 &      0.24 \\\\\n",
      "                                           Croatia &    11.42 &     -0.11 &      0.24 \\\\\n",
      "                                            Latvia &    10.22 &      0.23 &      0.28 \\\\\n",
      "                                     Cote d`Ivoire &     9.79 &      0.20 &      0.24 \\\\\n",
      "                                           Tunisia &     9.41 &     -0.30 &      0.48 \\\\\n",
      "                                        Costa Rica &     8.54 &      0.02 &      0.24 \\\\\n",
      "                                  Papua New Guinea &     8.48 &      0.78 &      0.28 \\\\\n",
      "                                             Ghana &     8.38 &      0.74 &      0.37 \\\\\n",
      "                                          Paraguay &     7.49 &      0.58 &      0.35 \\\\\n",
      "                                           Bahrain &     7.49 &     -0.43 &      0.64 \\\\\n",
      "                                           Bolivia &     7.41 &      0.62 &      0.45 \\\\\n",
      "                                           Uruguay &     6.94 &      0.55 &      0.34 \\\\\n",
      "                               Trinidad and Tobago &     6.53 &     -0.59 &      0.52 \\\\\n",
      "                                            Zambia &     6.13 &      0.36 &      0.40 \\\\\n",
      "             Congo, the Democratic Republic of the &     5.09 &      0.75 &      0.41 \\\\\n",
      "                                             Gabon &     4.45 &     -0.27 &      0.55 \\\\\n",
      "                                           Iceland &     4.22 &     -0.06 &      0.23 \\\\\n",
      "        Macedonia, The Former Yugoslav Republic of &     3.99 &      0.15 &      0.31 \\\\\n",
      "                                             Malta &     3.64 &      0.21 &      0.29 \\\\\n",
      "                                Dominican Republic &     3.60 &      0.43 &      0.39 \\\\\n",
      "                                          Cameroon &     3.30 &     -0.17 &      0.37 \\\\\n",
      "                                            Uganda &     2.37 &      0.24 &      0.22 \\\\\n",
      "                                         Nicaragua &     2.17 &      0.71 &      0.30 \\\\\n",
      "                                           Georgia &     1.93 &      0.53 &      0.39 \\\\\n",
      "                                            Cyprus &     1.82 &      0.22 &      0.23 \\\\\n",
      "                              Moldova, Republic of &     1.75 &      0.24 &      0.29 \\\\\n",
      "                                           Armenia &     1.30 &      0.14 &      0.36 \\\\\n",
      "                                            Malawi &     1.21 &      0.61 &      0.21 \\\\\n",
      "                                            Guyana &     0.99 &      0.49 &      0.29 \\\\\n",
      "                                              Fiji &     0.91 &      0.37 &      0.34 \\\\\n",
      "                                           Lesotho &     0.68 &     -0.05 &      0.30 \\\\\n",
      "                                      Sierra Leone &     0.64 &      1.03 &      0.64 \\\\\n",
      "                                   Solomon Islands &     0.40 &      1.12 &      0.38 \\\\\n",
      "                                       Saint Lucia &     0.16 &      0.53 &      0.35 \\\\\n",
      "                                           Burundi &     0.10 &      0.54 &      0.32 \\\\\n",
      "                  Saint Vincent and the Grenadines &     0.04 &     -0.05 &      0.18 \\\\\n",
      "                             Saint Kitts and Nevis &     0.04 &      0.16 &      0.38 \\\\\n",
      "                                           Grenada &     0.03 &      0.02 &      0.23 \\\\\n",
      "                                          Dominica &     0.03 &     -0.22 &      0.23 \\\\\n",
      "                               Antigua and Barbuda &     0.02 &     -1.89 &      0.64 \\\\\n",
      "\\bottomrule\n",
      "\\end{tabular}\n",
      "\n"
     ]
    }
   ],
   "source": [
    "df1 = df.query('date == \"2015-01-01\"').sort_values('x_ndef', ascending=False)[['full_name', 'x_ndef', 'tot_ch_x']]\n",
    "df1['x_ndef'] = df1['x_ndef'].apply(float) / 1000000000\n",
    "df1 = df1.join(std_dev)\n",
    "df1 = np.round(df1, decimals=2)\n",
    "df1.to_csv('export_country_table.csv')\n",
    "print df1.to_latex(index=False)"
   ]
  }
 ],
 "metadata": {
  "kernelspec": {
   "display_name": "Python 2",
   "language": "python",
   "name": "python2"
  },
  "language_info": {
   "codemirror_mode": {
    "name": "ipython",
    "version": 2
   },
   "file_extension": ".py",
   "mimetype": "text/x-python",
   "name": "python",
   "nbconvert_exporter": "python",
   "pygments_lexer": "ipython2",
   "version": "2.7.12"
  }
 },
 "nbformat": 4,
 "nbformat_minor": 0
}
