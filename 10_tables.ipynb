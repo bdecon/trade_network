{
 "cells": [
  {
   "cell_type": "markdown",
   "metadata": {},
   "source": [
    "# Trade network analysis\n",
    "**Brian Dew (brianwdew@gmail.com)**\n",
    "\n",
    "`10_tables.ipynb`\n",
    "\n",
    "Generates LaTeX tables with summary statistics on:\n",
    "\n",
    "Required file:\n",
    "\n",
    "* `panel.csv` - created by `09_panel.ipynb`\n",
    "\n",
    "---\n",
    "\n",
    "METODO: \n",
    "\n",
    "Annotate and expand"
   ]
  },
  {
   "cell_type": "markdown",
   "metadata": {},
   "source": [
    "#### Libraries"
   ]
  },
  {
   "cell_type": "code",
   "execution_count": 2,
   "metadata": {
    "collapsed": true
   },
   "outputs": [],
   "source": [
    "import pandas as pd                                         # pandas dataframes used for convenience\n",
    "import os                                                   # change current directory in next line\n",
    "import numpy as np\n",
    "\n",
    "os.chdir('C:/Working/trade_network/data/')"
   ]
  },
  {
   "cell_type": "markdown",
   "metadata": {},
   "source": [
    "#### Summary of largest exporters"
   ]
  },
  {
   "cell_type": "code",
   "execution_count": 84,
   "metadata": {
    "collapsed": false
   },
   "outputs": [],
   "source": [
    "df = pd.read_csv('panel.csv', index_col=['iso2', 'date'], parse_dates=['date'], header=0)\n",
    "df['x'] = df['x'] / 1000000000\n",
    "df['tot_ch_x'] = df['x_def'].groupby(df.index.get_level_values(0)).diff(periods=7) \n",
    "df['ann_ch_x'] = df['x_def'].groupby(df.index.get_level_values(0)).diff(periods=1) \n",
    "std_dev = df['ann_ch_x'].groupby(df.index.get_level_values(0)).std()"
   ]
  },
  {
   "cell_type": "code",
   "execution_count": 91,
   "metadata": {
    "collapsed": false
   },
   "outputs": [
    {
     "name": "stdout",
     "output_type": "stream",
     "text": [
      "\\begin{tabular}{lrrr}\n",
      "\\toprule\n",
      "          full\\_name &        x &  tot\\_ch\\_x &  ann\\_ch\\_x \\\\\n",
      "                    &          &           &           \\\\\n",
      "\\midrule\n",
      "              China &  2343.19 &      0.93 &      0.23 \\\\\n",
      "      United States &  1623.41 &      0.48 &      0.17 \\\\\n",
      "            Germany &  1492.54 &      0.13 &      0.20 \\\\\n",
      "              Japan &   690.20 &     -0.03 &      0.22 \\\\\n",
      "             France &   568.34 &      0.14 &      0.20 \\\\\n",
      "              Italy &   528.08 &      0.26 &      0.23 \\\\\n",
      "        Netherlands &   574.26 &      0.22 &      0.26 \\\\\n",
      "     United Kingdom &   481.89 &      0.16 &      0.23 \\\\\n",
      "            Belgium &   473.63 &      0.21 &      0.24 \\\\\n",
      " Russian Federation &   497.76 &      0.36 &      0.38 \\\\\n",
      "             Canada &   469.94 &      0.21 &      0.31 \\\\\n",
      "             Mexico &   397.66 &      0.57 &      0.29 \\\\\n",
      "          Singapore &   405.31 &      0.38 &      0.25 \\\\\n",
      "       Saudi Arabia &   342.30 &      0.74 &      0.66 \\\\\n",
      "              Spain &   323.85 &      0.25 &      0.23 \\\\\n",
      "           Malaysia &   233.93 &      0.56 &      0.25 \\\\\n",
      "          Australia &   241.24 &      0.80 &      0.41 \\\\\n",
      "        Switzerland &   227.61 &      0.32 &      0.21 \\\\\n",
      "             Brazil &   225.10 &      0.46 &      0.38 \\\\\n",
      "             Poland &   218.89 &      0.47 &      0.24 \\\\\n",
      "\\bottomrule\n",
      "\\end{tabular}\n",
      "\n"
     ]
    }
   ],
   "source": [
    "df1 = df.dropna().query('date == \"2014-01-01\"').sort_values('x_def', ascending=False)[:20][['full_name', 'x', 'tot_ch_x']]\n",
    "df1 = df1.join(std_dev)\n",
    "df1 = np.round(df1, decimals=2)\n",
    "\n",
    "print df1.to_latex(index=False)"
   ]
  }
 ],
 "metadata": {
  "kernelspec": {
   "display_name": "Python 2",
   "language": "python",
   "name": "python2"
  },
  "language_info": {
   "codemirror_mode": {
    "name": "ipython",
    "version": 2
   },
   "file_extension": ".py",
   "mimetype": "text/x-python",
   "name": "python",
   "nbconvert_exporter": "python",
   "pygments_lexer": "ipython2",
   "version": "2.7.12"
  }
 },
 "nbformat": 4,
 "nbformat_minor": 0
}
