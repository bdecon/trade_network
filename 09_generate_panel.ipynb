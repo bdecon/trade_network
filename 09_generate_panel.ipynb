{
 "cells": [
  {
   "cell_type": "markdown",
   "metadata": {},
   "source": [
    "# Trade Network Analysis\n",
    "`09_generate_panel.ipynb`\n",
    "\n",
    "---\n",
    "\n",
    "METODO:\n",
    "1. take log of series\n",
    "2. Fix IMF series! include 2007\n",
    "3. Drop unbalanced"
   ]
  },
  {
   "cell_type": "markdown",
   "metadata": {},
   "source": [
    "#### Libraries"
   ]
  },
  {
   "cell_type": "code",
   "execution_count": 1,
   "metadata": {
    "collapsed": true
   },
   "outputs": [],
   "source": [
    "import pandas as pd                                         # pandas dataframes used for convenience\n",
    "from pandas.stats.plm import PanelOLS\n",
    "import numpy as np\n",
    "import os                                                   # change current directory in next line\n",
    "os.chdir('C:/Working/trade_network/data/')"
   ]
  },
  {
   "cell_type": "markdown",
   "metadata": {},
   "source": [
    "Load IMF data"
   ]
  },
  {
   "cell_type": "code",
   "execution_count": 2,
   "metadata": {
    "collapsed": false
   },
   "outputs": [],
   "source": [
    "decomp = pd.read_csv('imports_decomp.csv')\n",
    "decomp = decomp.rename(columns={'Unnamed: 0': 'date', 'j': 'iso2'})\n",
    "decomp['date'] = decomp['date'].apply(str)\n",
    "decomp = decomp.set_index(['date', 'iso2'])\n",
    "df = pd.read_csv('imf_data.csv', index_col=[0,1,2,3], skipinitialspace=True).reset_index()[2:]\n",
    "df = df.rename(columns={'level_0': 'iso2', 'Unnamed: 1': 'full_name', 'Unnamed: 2':'date', 'mp': 'mp_base', \n",
    "                        'mp.1': 'mp',  'xp': 'xp_base', 'xp.1': 'xp'})\n",
    "df = df.set_index(['date', 'iso2'])\n",
    "panel = df.join(decomp)\n",
    "for v in ['q', 'x', 'xp', 'mp']:\n",
    "    panel[v] = panel[v].apply(float) # replace country names"
   ]
  },
  {
   "cell_type": "markdown",
   "metadata": {},
   "source": [
    "#### Deflate USD values with price indices"
   ]
  },
  {
   "cell_type": "code",
   "execution_count": 3,
   "metadata": {
    "collapsed": false,
    "scrolled": true
   },
   "outputs": [],
   "source": [
    "deflators = {'x': 'xp', 'cs': 'mp', 'ns': 'mp', 'cn': 'mp', 'nn': 'mp'}\n",
    "for k, v in deflators.iteritems():\n",
    "    panel[k+'_def'] = np.log(panel[k] * (panel[v] / 100))\n",
    "#panel['q'] = np.log(panel['q'])"
   ]
  },
  {
   "cell_type": "code",
   "execution_count": 4,
   "metadata": {
    "collapsed": false
   },
   "outputs": [],
   "source": [
    "panel['x_ch'] = panel['x_def'].groupby(df.index.get_level_values(1)).diff(periods=-1)\n",
    "panel = panel.dropna()"
   ]
  },
  {
   "cell_type": "code",
   "execution_count": 11,
   "metadata": {
    "collapsed": false
   },
   "outputs": [],
   "source": [
    "import statsmodels.api as sm \n",
    "import statsmodels.formula.api as smf"
   ]
  },
  {
   "cell_type": "code",
   "execution_count": 7,
   "metadata": {
    "collapsed": false
   },
   "outputs": [],
   "source": [
    "panel.to_csv('panel.csv')"
   ]
  },
  {
   "cell_type": "code",
   "execution_count": 5,
   "metadata": {
    "collapsed": false
   },
   "outputs": [],
   "source": [
    "#panel.dropna()[['q', 'x_def', 'cs_def', 'ns_def', 'cn_def', 'x_ch']]\n",
    "#from pandas.stats.plm import PanelOLS"
   ]
  },
  {
   "cell_type": "code",
   "execution_count": 8,
   "metadata": {
    "collapsed": false
   },
   "outputs": [
    {
     "name": "stderr",
     "output_type": "stream",
     "text": [
      "C:\\Users\\BDew\\Anaconda2\\lib\\site-packages\\IPython\\core\\interactiveshell.py:2825: FutureWarning: The pandas.stats.plm module is deprecated and will be removed in a future version. We refer to external packages like statsmodels, see some examples here: http://statsmodels.sourceforge.net/stable/mixed_linear.html\n",
      "  if self.run_code(code, result):\n"
     ]
    },
    {
     "data": {
      "text/plain": [
       "\n",
       "-------------------------Summary of Regression Analysis-------------------------\n",
       "\n",
       "Formula: Y ~ <x_def> + <q> + <cs_def> + <ns_def> + <cn_def>\n",
       "\n",
       "Number of Observations:         602\n",
       "Number of Degrees of Freedom:   12\n",
       "\n",
       "R-squared:         0.0196\n",
       "Adj R-squared:     0.0013\n",
       "\n",
       "Rmse:              0.1973\n",
       "\n",
       "F-stat (5, 590):     1.0728, p-value:     0.3743\n",
       "\n",
       "Degrees of Freedom: model 11, resid 590\n",
       "\n",
       "-----------------------Summary of Estimated Coefficients------------------------\n",
       "      Variable       Coef    Std Err     t-stat    p-value    CI 2.5%   CI 97.5%\n",
       "--------------------------------------------------------------------------------\n",
       "         x_def     0.0218     0.0104       2.10     0.0363     0.0014     0.0421\n",
       "             q     0.0009     0.0012       0.74     0.4616    -0.0015     0.0032\n",
       "        cs_def     0.0156     0.0084       1.86     0.0640    -0.0009     0.0322\n",
       "        ns_def    -0.0211     0.0108      -1.96     0.0508    -0.0422     0.0000\n",
       "        cn_def    -0.0165     0.0121      -1.37     0.1717    -0.0402     0.0071\n",
       "---------------------------------End of Summary---------------------------------"
      ]
     },
     "execution_count": 8,
     "metadata": {},
     "output_type": "execute_result"
    }
   ],
   "source": [
    "reg  = PanelOLS(y=panel['x_ch'],x=panel[['x_def', 'q', 'cs_def', 'ns_def', 'cn_def']],time_effects=True)\n",
    "reg"
   ]
  }
 ],
 "metadata": {
  "kernelspec": {
   "display_name": "Python 2",
   "language": "python",
   "name": "python2"
  },
  "language_info": {
   "codemirror_mode": {
    "name": "ipython",
    "version": 2
   },
   "file_extension": ".py",
   "mimetype": "text/x-python",
   "name": "python",
   "nbconvert_exporter": "python",
   "pygments_lexer": "ipython2",
   "version": "2.7.12"
  }
 },
 "nbformat": 4,
 "nbformat_minor": 0
}
