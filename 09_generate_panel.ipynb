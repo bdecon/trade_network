{
 "cells": [
  {
   "cell_type": "markdown",
   "metadata": {},
   "source": [
    "# Trade Network Analysis\n",
    "`09_generate_panel.ipynb`\n",
    "\n",
    "---\n",
    "\n",
    "METODO:\n",
    "1. take log of series\n",
    "2. Fix IMF series! include 2007\n",
    "3. Drop unbalanced"
   ]
  },
  {
   "cell_type": "markdown",
   "metadata": {},
   "source": [
    "#### Libraries"
   ]
  },
  {
   "cell_type": "code",
   "execution_count": 40,
   "metadata": {
    "collapsed": true
   },
   "outputs": [],
   "source": [
    "import pandas as pd                                         # pandas dataframes used for convenience\n",
    "import os                                                   # change current directory in next line\n",
    "os.chdir('C:/Working/trade_network/data/')"
   ]
  },
  {
   "cell_type": "markdown",
   "metadata": {},
   "source": [
    "Load IMF data"
   ]
  },
  {
   "cell_type": "code",
   "execution_count": 66,
   "metadata": {
    "collapsed": false
   },
   "outputs": [],
   "source": [
    "decomp = pd.read_csv('imports_decomp.csv')\n",
    "decomp = decomp.rename(columns={'Unnamed: 0': 'date', 'j': 'iso2'})\n",
    "decomp['date'] = decomp['date'].apply(str)\n",
    "decomp = decomp.set_index(['date', 'iso2'])\n",
    "df = pd.read_csv('imf_data.csv', index_col=[0,1,2,3], skipinitialspace=True).reset_index()[2:]\n",
    "df = df.rename(columns={'level_0': 'iso2', 'Unnamed: 1': 'full_name', 'Unnamed: 2':'date', 'mp': 'mp_base', \n",
    "                        'mp.1': 'mp',  'xp': 'xp_base', 'xp.1': 'xp'})\n",
    "df = df.set_index(['date', 'iso2'])\n",
    "panel = df.join(decomp)\n",
    "for v in ['q', 'x', 'xp', 'mp']:\n",
    "    panel[v] = panel[v].apply(float) # replace country names"
   ]
  },
  {
   "cell_type": "markdown",
   "metadata": {},
   "source": [
    "#### Deflate USD values with price indices"
   ]
  },
  {
   "cell_type": "code",
   "execution_count": 70,
   "metadata": {
    "collapsed": false,
    "scrolled": true
   },
   "outputs": [],
   "source": [
    "deflators = {'x': 'xp', 'cs': 'mp', 'ns': 'mp', 'cn': 'mp', 'nn': 'mp'}\n",
    "for k, v in deflators.iteritems():\n",
    "    panel[k+'_def'] = (panel[k] * (panel[v] / 100))"
   ]
  },
  {
   "cell_type": "code",
   "execution_count": 79,
   "metadata": {
    "collapsed": false
   },
   "outputs": [],
   "source": [
    "panel['x_ch'] = panel['x_def'].groupby(df.index.get_level_values(1)).diff()"
   ]
  },
  {
   "cell_type": "code",
   "execution_count": 82,
   "metadata": {
    "collapsed": false
   },
   "outputs": [],
   "source": [
    "#panel.dropna()[['q', 'x_def', 'cs_def', 'ns_def', 'cn_def', 'x_ch']]\n",
    "from pandas.stats.plm import PanelOLS"
   ]
  },
  {
   "cell_type": "code",
   "execution_count": 86,
   "metadata": {
    "collapsed": false
   },
   "outputs": [
    {
     "data": {
      "text/plain": [
       "\n",
       "-------------------------Summary of Regression Analysis-------------------------\n",
       "\n",
       "Formula: Y ~ <x_def> + <q> + <cs_def> + <ns_def> + <cn_def>\n",
       "\n",
       "Number of Observations:         523\n",
       "Number of Degrees of Freedom:   11\n",
       "\n",
       "R-squared:         0.1350\n",
       "Adj R-squared:     0.1181\n",
       "\n",
       "Rmse:          56604553707.5237\n",
       "\n",
       "F-stat (5, 512):     7.9876, p-value:     0.0000\n",
       "\n",
       "Degrees of Freedom: model 10, resid 512\n",
       "\n",
       "-----------------------Summary of Estimated Coefficients------------------------\n",
       "      Variable       Coef    Std Err     t-stat    p-value    CI 2.5%   CI 97.5%\n",
       "--------------------------------------------------------------------------------\n",
       "         x_def     0.0323     0.0222       1.46     0.1462    -0.0112     0.0758\n",
       "             q 582558890.0231 366943309.7502       1.59     0.1130 -136649997.0874 1301767777.1336\n",
       "        cs_def  1367.7285   548.4123       2.49     0.0129   292.8403  2442.6166\n",
       "        ns_def  -361.3403   164.2761      -2.20     0.0283  -683.3214   -39.3592\n",
       "        cn_def    76.6234    90.7397       0.84     0.3988  -101.2264   254.4732\n",
       "---------------------------------End of Summary---------------------------------"
      ]
     },
     "execution_count": 86,
     "metadata": {},
     "output_type": "execute_result"
    }
   ],
   "source": [
    "reg  = PanelOLS(y=panel['x_ch'],x=panel[['x_def', 'q', 'cs_def', 'ns_def', 'cn_def']],time_effects=True)\n",
    "reg"
   ]
  }
 ],
 "metadata": {
  "kernelspec": {
   "display_name": "Python 2",
   "language": "python",
   "name": "python2"
  },
  "language_info": {
   "codemirror_mode": {
    "name": "ipython",
    "version": 2
   },
   "file_extension": ".py",
   "mimetype": "text/x-python",
   "name": "python",
   "nbconvert_exporter": "python",
   "pygments_lexer": "ipython2",
   "version": "2.7.12"
  }
 },
 "nbformat": 4,
 "nbformat_minor": 0
}
