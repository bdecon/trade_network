{
 "cells": [
  {
   "cell_type": "markdown",
   "metadata": {},
   "source": [
    "# Trade network analysis\n",
    "**Brian Dew (brianwdew@gmail.com)**\n",
    "\n",
    "`02_clean.ipynb`\n",
    "\n",
    "Files used: \n",
    "* Country codes file from BACI 'country_code_baci07.csv' http://www.cepii.fr/DATA_DOWNLOAD/baci/country_code_baci07.csv\n",
    "* Broad economic classification (BEC) codes from the UN 'BECnoncons.csv'\n",
    "http://unstats.un.org/unsd/tradekb/Knowledgebase/Intermediate-Goods-in-Trade-Statistics\n",
    "\n",
    "This script: \n",
    "1. opens the raw csv file for each year (unpacked in the previous step);\n",
    "2. drops BEC classified final consumption products;\n",
    "3. changes the country codes to ISO2; and\n",
    "4. saves the end result as a new file with the ending '_clean'\n",
    "\n",
    "Note: Script creates ~2.4GB of files and takes several minutes to run.\n",
    "\n",
    "---\n",
    "\n",
    "METODO: \n",
    "\n",
    "1. Speed up run time. Can I use `.loc` or `.ix`? \n",
    "2. Start and end year should not be manual"
   ]
  },
  {
   "cell_type": "code",
   "execution_count": 1,
   "metadata": {
    "collapsed": false
   },
   "outputs": [],
   "source": [
    "import pandas as pd\n",
    "import os\n",
    "os.chdir('C:/Working/trade_network/data/')\n",
    "if not os.path.exists( 'clean/.'):            # This just creates a folder if one does not exist\n",
    "    os.makedirs('clean/.')"
   ]
  },
  {
   "cell_type": "code",
   "execution_count": 2,
   "metadata": {
    "collapsed": true
   },
   "outputs": [],
   "source": [
    "# Create a dictionary of iso2 country codes \n",
    "iso2 = pd.read_csv('country_code_baci07.csv', index_col='i', keep_default_na=False, na_values=[''])['iso2'].to_dict()\n",
    "# Create a dictionary of non final consumption goods\n",
    "BECcodes = pd.read_csv('BECnoncons.csv', index_col='hs6', squeeze=True).to_dict().keys()"
   ]
  },
  {
   "cell_type": "code",
   "execution_count": 3,
   "metadata": {
    "collapsed": false
   },
   "outputs": [],
   "source": [
    "for y in map(str, range(2008,2015)):                      # start year & end year + 1 \n",
    "    rawfile = 'raw/baci07_'+y+'_raw.csv'\n",
    "    df = pd.read_csv(rawfile, index_col='t')             # build dataframe\n",
    "    df = df[df['hs6'].isin(BECcodes)]                    # drop final consumption goods\n",
    "    for v in ['i', 'j']:\n",
    "        df[v] = df[v].apply(lambda x: iso2.get(x,x))     # replace country names\n",
    "    df = df.dropna(axis=0)                               # drop any empty rows\n",
    "    cleanfile = 'clean/baci07_'+y+'_clean.csv'          #file name\n",
    "    df.to_csv(cleanfile, index=False, float_format='%g') # save as csv"
   ]
  }
 ],
 "metadata": {
  "kernelspec": {
   "display_name": "Python 2",
   "language": "python",
   "name": "python2"
  },
  "language_info": {
   "codemirror_mode": {
    "name": "ipython",
    "version": 2
   },
   "file_extension": ".py",
   "mimetype": "text/x-python",
   "name": "python",
   "nbconvert_exporter": "python",
   "pygments_lexer": "ipython2",
   "version": "2.7.12"
  }
 },
 "nbformat": 4,
 "nbformat_minor": 0
}
