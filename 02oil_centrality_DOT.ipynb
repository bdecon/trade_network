{
 "cells": [
  {
   "cell_type": "markdown",
   "metadata": {},
   "source": [
    "# Trade network analysis\n",
    "**Brian Dew (brianwdew@gmail.com)**\n",
    "\n",
    "`02oil_centrality_DOT.ipynb`\n",
    "\n",
    "Calculates various centrality scores for the trade network in each month of the DOTS data obtained in `01oil_DOT.ipynb`.\n",
    "\n",
    "Required file:\n",
    "\n",
    "* DOTS_all.csv - Full network of DOT data.\n",
    "\n",
    "---\n",
    " "
   ]
  },
  {
   "cell_type": "markdown",
   "metadata": {},
   "source": [
    "#### Libraries"
   ]
  },
  {
   "cell_type": "code",
   "execution_count": 5,
   "metadata": {
    "collapsed": true
   },
   "outputs": [],
   "source": [
    "import pandas as pd                                         # pandas dataframes used for convenience\n",
    "import networkx as nx\n",
    "import numpy as np\n",
    "import os                                                   # change current directory in next line\n",
    "os.chdir('C:/Working/trade_network/data')"
   ]
  },
  {
   "cell_type": "code",
   "execution_count": 6,
   "metadata": {
    "collapsed": false
   },
   "outputs": [],
   "source": [
    "df = pd.read_csv('A_DOTS_all.csv', index_col='date')"
   ]
  },
  {
   "cell_type": "code",
   "execution_count": 7,
   "metadata": {
    "collapsed": false
   },
   "outputs": [],
   "source": [
    "odc = {}\n",
    "odw = {}\n",
    "ecx = {}\n",
    "idc = {}\n",
    "idw = {}\n",
    "ecm = {}\n",
    "for m in df.index.unique():\n",
    "    year_nw = df.loc[m]\n",
    "    G = nx.from_pandas_dataframe(year_nw, 'i', 'j', 'x', nx.DiGraph())  #build network\n",
    "    odc[m] = nx.out_degree_centrality(G)\n",
    "    odw[m] = G.out_degree(weight='x')\n",
    "    ecx[m] = nx.eigenvector_centrality_numpy(G,weight='x')    \n",
    "    idc[m] = nx.in_degree_centrality(G)\n",
    "    idw[m] = G.out_degree(weight='x')\n",
    "    ecm[m] = nx.eigenvector_centrality_numpy(G.reverse(),weight='x')    "
   ]
  },
  {
   "cell_type": "code",
   "execution_count": 8,
   "metadata": {
    "collapsed": false
   },
   "outputs": [],
   "source": [
    "odc1 = pd.DataFrame(odc).unstack()\n",
    "idc1 = pd.DataFrame(idc).unstack()\n",
    "ecx1 = pd.DataFrame(ecx).unstack()\n",
    "ecm1 = pd.DataFrame(ecm).unstack()\n",
    "idw1 = pd.DataFrame(idw).unstack()\n",
    "odw1 = pd.DataFrame(odw).unstack()\n",
    " \n",
    "df1 = pd.concat([odc1,odw1, ecx1, idc1,idw1,ecm1], axis=1).reset_index()\n",
    "df1.columns = ['date', 'iso2', 'odc', 'odw', 'ecx', 'idc', 'idw', 'ecm']\n",
    "df1 = df1.set_index('date')\n",
    "df1.to_csv('A_centrality_scores_DOT.csv')"
   ]
  }
 ],
 "metadata": {
  "kernelspec": {
   "display_name": "Python 2",
   "language": "python",
   "name": "python2"
  },
  "language_info": {
   "codemirror_mode": {
    "name": "ipython",
    "version": 2
   },
   "file_extension": ".py",
   "mimetype": "text/x-python",
   "name": "python",
   "nbconvert_exporter": "python",
   "pygments_lexer": "ipython2",
   "version": "2.7.12"
  }
 },
 "nbformat": 4,
 "nbformat_minor": 0
}
