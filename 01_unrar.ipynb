{
 "cells": [
  {
   "cell_type": "markdown",
   "metadata": {},
   "source": [
    "# Trade network analysis\n",
    "**Brian Dew (brianwdew@gmail.com)**\n",
    "\n",
    "`01_unrar.ipynb`\n",
    "\n",
    "This script unrar's raw BACI data downloaded from CEPII into a set of csv files in a subfolder.\n",
    "\n",
    "Data source: http://www.cepii.fr/CEPII/en/bdd_modele/presentation.asp?id=1 using version 2007 of the HS system"
   ]
  },
  {
   "cell_type": "code",
   "execution_count": 20,
   "metadata": {
    "collapsed": false
   },
   "outputs": [],
   "source": [
    "# patoolib has unrar, os to rename files\n",
    "import patoolib\n",
    "import os\n",
    "os.chdir('C:/Working/trade_network/data/')\n",
    "if not os.path.exists('raw/.'):\n",
    "    os.makedirs('raw/.')"
   ]
  },
  {
   "cell_type": "code",
   "execution_count": 21,
   "metadata": {
    "collapsed": false
   },
   "outputs": [
    {
     "name": "stdout",
     "output_type": "stream",
     "text": [
      "patool: Extracting baci07_2008.rar ...\n",
      "patool: running \"C:\\Program Files\\UnixUtil\\usr\\local\\wbin\\unrar.EXE\" x -- C:\\Working\\trade_network\\data\\baci07_2008.rar\n",
      "patool:     with cwd=raw/.\n",
      "patool: ... baci07_2008.rar extracted to `raw/.'.\n",
      "patool: Extracting baci07_2009.rar ...\n",
      "patool: running \"C:\\Program Files\\UnixUtil\\usr\\local\\wbin\\unrar.EXE\" x -- C:\\Working\\trade_network\\data\\baci07_2009.rar\n",
      "patool:     with cwd=raw/.\n",
      "patool: ... baci07_2009.rar extracted to `raw/.'.\n",
      "patool: Extracting baci07_2010.rar ...\n",
      "patool: running \"C:\\Program Files\\UnixUtil\\usr\\local\\wbin\\unrar.EXE\" x -- C:\\Working\\trade_network\\data\\baci07_2010.rar\n",
      "patool:     with cwd=raw/.\n",
      "patool: ... baci07_2010.rar extracted to `raw/.'.\n",
      "patool: Extracting baci07_2011.rar ...\n",
      "patool: running \"C:\\Program Files\\UnixUtil\\usr\\local\\wbin\\unrar.EXE\" x -- C:\\Working\\trade_network\\data\\baci07_2011.rar\n",
      "patool:     with cwd=raw/.\n",
      "patool: ... baci07_2011.rar extracted to `raw/.'.\n",
      "patool: Extracting baci07_2012.rar ...\n",
      "patool: running \"C:\\Program Files\\UnixUtil\\usr\\local\\wbin\\unrar.EXE\" x -- C:\\Working\\trade_network\\data\\baci07_2012.rar\n",
      "patool:     with cwd=raw/.\n",
      "patool: ... baci07_2012.rar extracted to `raw/.'.\n",
      "patool: Extracting baci07_2013.rar ...\n",
      "patool: running \"C:\\Program Files\\UnixUtil\\usr\\local\\wbin\\unrar.EXE\" x -- C:\\Working\\trade_network\\data\\baci07_2013.rar\n",
      "patool:     with cwd=raw/.\n",
      "patool: ... baci07_2013.rar extracted to `raw/.'.\n",
      "patool: Extracting baci07_2014.rar ...\n",
      "patool: running \"C:\\Program Files\\UnixUtil\\usr\\local\\wbin\\unrar.EXE\" x -- C:\\Working\\trade_network\\data\\baci07_2014.rar\n",
      "patool:     with cwd=raw/.\n",
      "patool: ... baci07_2014.rar extracted to `raw/.'.\n"
     ]
    }
   ],
   "source": [
    "for y in map(str, range(2008,2015)):    # start year & end year + 1 \n",
    "    filename = 'baci07_' + y           # string with name of file\n",
    "    outdir = 'raw/'    \n",
    "    rarfile = filename + '.rar'\n",
    "    csvfile = outdir + filename + '.csv'\n",
    "    csvnewname = outdir + filename + '_raw.csv'\n",
    "    patoolib.extract_archive(rarfile,outdir=outdir + '.')\n",
    "    os.rename(csvfile,csvnewname)"
   ]
  }
 ],
 "metadata": {
  "kernelspec": {
   "display_name": "Python 2",
   "language": "python",
   "name": "python2"
  },
  "language_info": {
   "codemirror_mode": {
    "name": "ipython",
    "version": 2
   },
   "file_extension": ".py",
   "mimetype": "text/x-python",
   "name": "python",
   "nbconvert_exporter": "python",
   "pygments_lexer": "ipython2",
   "version": "2.7.12"
  }
 },
 "nbformat": 4,
 "nbformat_minor": 0
}
