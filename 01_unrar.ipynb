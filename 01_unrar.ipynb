{
 "cells": [
  {
   "cell_type": "markdown",
   "metadata": {},
   "source": [
    "# Trade Network Structure and Export Volatility\n",
    "## Unrar\n",
    "\n",
    "This first step takes the raw data downloaded from CEPII and unrar it to a set of csv files in individual folders by year."
   ]
  },
  {
   "cell_type": "code",
   "execution_count": 20,
   "metadata": {
    "collapsed": false
   },
   "outputs": [],
   "source": [
    "# patoolib has unrar, os to rename files\n",
    "import patoolib\n",
    "import os\n",
    "os.chdir('C:/Working/trade_network/data/')\n",
    "if not os.path.exists('raw/.'):\n",
    "    os.makedirs('raw/.')"
   ]
  },
  {
   "cell_type": "code",
   "execution_count": 21,
   "metadata": {
    "collapsed": false
   },
   "outputs": [
    {
     "name": "stdout",
     "output_type": "stream",
     "text": [
      "patool: Extracting baci07_2008.rar ...\n",
      "patool: running \"C:\\Program Files\\UnixUtil\\usr\\local\\wbin\\unrar.EXE\" x -- C:\\Working\\trade_network\\data\\baci07_2008.rar\n",
      "patool:     with cwd=raw/.\n",
      "patool: ... baci07_2008.rar extracted to `raw/.'.\n",
      "patool: Extracting baci07_2009.rar ...\n",
      "patool: running \"C:\\Program Files\\UnixUtil\\usr\\local\\wbin\\unrar.EXE\" x -- C:\\Working\\trade_network\\data\\baci07_2009.rar\n",
      "patool:     with cwd=raw/.\n",
      "patool: ... baci07_2009.rar extracted to `raw/.'.\n",
      "patool: Extracting baci07_2010.rar ...\n",
      "patool: running \"C:\\Program Files\\UnixUtil\\usr\\local\\wbin\\unrar.EXE\" x -- C:\\Working\\trade_network\\data\\baci07_2010.rar\n",
      "patool:     with cwd=raw/.\n",
      "patool: ... baci07_2010.rar extracted to `raw/.'.\n",
      "patool: Extracting baci07_2011.rar ...\n",
      "patool: running \"C:\\Program Files\\UnixUtil\\usr\\local\\wbin\\unrar.EXE\" x -- C:\\Working\\trade_network\\data\\baci07_2011.rar\n",
      "patool:     with cwd=raw/.\n",
      "patool: ... baci07_2011.rar extracted to `raw/.'.\n",
      "patool: Extracting baci07_2012.rar ...\n",
      "patool: running \"C:\\Program Files\\UnixUtil\\usr\\local\\wbin\\unrar.EXE\" x -- C:\\Working\\trade_network\\data\\baci07_2012.rar\n",
      "patool:     with cwd=raw/.\n",
      "patool: ... baci07_2012.rar extracted to `raw/.'.\n",
      "patool: Extracting baci07_2013.rar ...\n",
      "patool: running \"C:\\Program Files\\UnixUtil\\usr\\local\\wbin\\unrar.EXE\" x -- C:\\Working\\trade_network\\data\\baci07_2013.rar\n",
      "patool:     with cwd=raw/.\n",
      "patool: ... baci07_2013.rar extracted to `raw/.'.\n",
      "patool: Extracting baci07_2014.rar ...\n",
      "patool: running \"C:\\Program Files\\UnixUtil\\usr\\local\\wbin\\unrar.EXE\" x -- C:\\Working\\trade_network\\data\\baci07_2014.rar\n",
      "patool:     with cwd=raw/.\n",
      "patool: ... baci07_2014.rar extracted to `raw/.'.\n"
     ]
    }
   ],
   "source": [
    "for y in range(2008, 2015):             # start year through end year + 1\n",
    "    filename = 'baci07_' + str(y)      # string with name of file\n",
    "    outdir = 'raw/'    \n",
    "    rarfile = filename + '.rar'\n",
    "    csvfile = outdir + filename + '.csv'\n",
    "    csvnewname = outdir + filename + '_raw.csv'\n",
    "    patoolib.extract_archive(rarfile,outdir=outdir + '.')\n",
    "    os.rename(csvfile,csvnewname)"
   ]
  },
  {
   "cell_type": "code",
   "execution_count": 18,
   "metadata": {
    "collapsed": false
   },
   "outputs": [],
   "source": [
    "#######\n",
    "#Previous code:\n",
    "#######\n",
    "#for y in range(2008, 2015):             # start year through end year + 1\n",
    "#    filename = 'baci07_' + str(y)      # string with name of file\n",
    "#    outdir = 'BACI/' + str(y) + '/'    \n",
    "#    rarfile = filename + '.rar'\n",
    "#    csvfile = outdir + filename + '.csv'\n",
    "#    csvnewname = outdir + filename + '_raw.csv'\n",
    "#    patoolib.extract_archive(rarfile,outdir=outdir + '.')\n",
    "#    os.rename(csvfile,csvnewname)\n",
    "# patoolib has unrar, os to rename files\n",
    "#import patoolib\n",
    "#import os\n",
    "#os.chdir('C:/Working/Trade_Paper/Data/')\n",
    "#for y in range(2008, 2015):\n",
    "#    patoolib.extract_archive(\"baci07_\" + str(y) + \".rar\",outdir=\"BACI/\" + str(y) +\"/.\")\n",
    "#for y in range(2008, 2015):\n",
    "#    os.rename(\"BACI/\" + str(y) + \"/baci07_\"+ str(y) + \".csv\",\"BACI/\" + str(y) + \"/baci07_\" + str(y) + \"_raw.csv\")"
   ]
  }
 ],
 "metadata": {
  "kernelspec": {
   "display_name": "Python 2",
   "language": "python",
   "name": "python2"
  },
  "language_info": {
   "codemirror_mode": {
    "name": "ipython",
    "version": 2
   },
   "file_extension": ".py",
   "mimetype": "text/x-python",
   "name": "python",
   "nbconvert_exporter": "python",
   "pygments_lexer": "ipython2",
   "version": "2.7.10"
  }
 },
 "nbformat": 4,
 "nbformat_minor": 0
}
