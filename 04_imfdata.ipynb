{
 "cells": [
  {
   "cell_type": "markdown",
   "metadata": {},
   "source": [
    "# Trade network analysis\n",
    "**Brian Dew (brianwdew@gmail.com)**\n",
    "\n",
    "**04_imfdata.ipynb**\n",
    "\n",
    "Using the IMF API, data on exports, prices, and exchange rates are collected for all available countries during 2008-2014.\n",
    "\n",
    "METODO: \n",
    "\n",
    "1) Annotate and clean method2 section - can I use a loop?\n",
    "\n",
    "2) Match the missing country price data with regional substitutes\n",
    "       "
   ]
  },
  {
   "cell_type": "markdown",
   "metadata": {},
   "source": [
    "#### Import packages"
   ]
  },
  {
   "cell_type": "code",
   "execution_count": 1,
   "metadata": {
    "collapsed": true
   },
   "outputs": [],
   "source": [
    "import requests                                             # For requesting json data from the url\n",
    "import pandas as pd                                         # pandas dataframes used for convenience\n",
    "import os                                                   # change current directory in next line\n",
    "os.chdir('C:/Working/trade_network/data/')"
   ]
  },
  {
   "cell_type": "markdown",
   "metadata": {},
   "source": [
    "#### settings for API request"
   ]
  },
  {
   "cell_type": "code",
   "execution_count": 2,
   "metadata": {
    "collapsed": false
   },
   "outputs": [],
   "source": [
    "webserv = 'http://dataservices.imf.org/REST/SDMX_JSON.svc/' # the main URL for the JSON rest API\n",
    "method = 'CompactData/'                                     # Data is stored here. Datastructure has info\n",
    "series = 'IFS'                                              # International Financial Statistics series\n",
    "freq = 'A'                                                  # Annual\n",
    "inds = {'x': 'TXG_FOB_USD', 'q': 'EREER_IX', 'p': 'TMG_D_USD_CIF_IX'}  # Set of IFS indicators of interest \n",
    "date = '?startPeriod=2008&endPeriod=2014'                   # Date range of interest"
   ]
  },
  {
   "cell_type": "markdown",
   "metadata": {},
   "source": [
    "Gather additional dictionaries with country and indicator codes. CLEAN UP and ANNOTATE"
   ]
  },
  {
   "cell_type": "code",
   "execution_count": 3,
   "metadata": {
    "collapsed": false
   },
   "outputs": [],
   "source": [
    "method2 = 'DataStructure/' # This method gives info on the country names, units, and indicator names\n",
    "url2 = webserv+method2+series   # url to access IMF datastructure method API\n",
    "data1 = requests.get(url2).json()['Structure']['CodeLists']['CodeList'][2]['Code'] # area names here\n",
    "data2 = requests.get(url2).json()['Structure']['CodeLists']['CodeList'][3]['Code'] # indicator codes\n",
    "data3 = requests.get(url2).json()['Structure']['CodeLists']['CodeList'][0]['Code'] # unit codes\n",
    "df = pd.DataFrame(data1).set_index('@value')\n",
    "area_names = {c : df['Description'].loc[c]['#text'] for c in df.index.values}\n",
    "df = pd.DataFrame(data2).set_index('@value')\n",
    "ifs_inds = {i : df['Description'].loc[i]['#text'] for i in df.index.values}\n",
    "df = pd.DataFrame(data3).set_index('@value')\n",
    "unit_codes = {m : df['Annotations'].loc[m]['Annotation'][2]['AnnotationText']['#text'] for m in df.index.values}"
   ]
  },
  {
   "cell_type": "markdown",
   "metadata": {},
   "source": [
    "Print out the full indicator names"
   ]
  },
  {
   "cell_type": "code",
   "execution_count": 4,
   "metadata": {
    "collapsed": false
   },
   "outputs": [
    {
     "name": "stdout",
     "output_type": "stream",
     "text": [
      "EREER_IX: Real Effective Exchange Rate, based on Consumer Price Index, Index\n",
      "TXG_FOB_USD: Goods, Value of Exports, Free on board (FOB), US Dollars\n",
      "TMG_D_USD_CIF_IX: Goods, Deflator/Unit Value of Imports, US Dollars, Index\n"
     ]
    }
   ],
   "source": [
    "for k in inds.keys():                         # keys are the x, p, q values in inds\n",
    "    print inds[k]+': '+ifs_inds[inds[k]]      # print the indicator id and name"
   ]
  },
  {
   "cell_type": "markdown",
   "metadata": {},
   "source": [
    "#### Loop with API request for each indicator"
   ]
  },
  {
   "cell_type": "code",
   "execution_count": 5,
   "metadata": {
    "collapsed": false
   },
   "outputs": [],
   "source": [
    "fd = {} # dictionary for saving each series from inds above\n",
    "unit_mult = {} # dictionary for saving unit multipliers by country and indicator\n",
    "for k, v in inds.iteritems(): # k is the key and v is the value\n",
    "    url = webserv+method+series+'/'+freq+'..'+v+'.'+date # print url to see\n",
    "    df = pd.DataFrame(requests.get(url).json()['CompactData']['DataSet']['Series']).set_index('@REF_AREA')\n",
    "    df['@UNIT_MULT'] = df['@UNIT_MULT'].map(unit_codes) # match unit codes with unit multipliers\n",
    "    df = df[df['Obs'].apply(lambda x: isinstance(x, list))] # drops empties\n",
    "    d = {} # temporary dict to save country by country dataframes\n",
    "    for c in df.index.values: # index values are countries (@REF_AREA) as set above\n",
    "        d[c] = pd.DataFrame(df.loc[c]['Obs']).rename(columns={'@TIME_PERIOD':'date'})\n",
    "        d[c]['date'] = pd.to_datetime(d[c]['date'].values) # set dates as datetime for index\n",
    "        d[c]['@OBS_VALUE'] = pd.to_numeric(d[c]['@OBS_VALUE']) * int(df['@UNIT_MULT'][c]) # adjust units\n",
    "    fd[k]= pd.concat(d, axis=0).reset_index().set_index(['level_0','date']).drop('level_1', 1)\n",
    "merged = pd.concat(fd, axis=1).reset_index() # combine all series to one merged dataframe\n",
    "merged['full_name'] = merged['level_0'].map(area_names)    # add column with full name of area\n",
    "merged = merged.set_index(['level_0','full_name','date'])  # set index to country and date"
   ]
  },
  {
   "cell_type": "markdown",
   "metadata": {},
   "source": [
    "#### Missing price data filled with regional values\n",
    "\n",
    "Using best match from this list: https://www.imf.org/external/pubs/ft/weo/2016/02/weodata/groups.htm, each country with mising import price data has the regional price data used in place of missing values."
   ]
  },
  {
   "cell_type": "code",
   "execution_count": 31,
   "metadata": {
    "collapsed": false
   },
   "outputs": [],
   "source": [
    "ccodes = merged.reset_index()[['level_0','full_name']].set_index('level_0').to_dict()[('full_name', '')]\n",
    "test = merged[merged['p']['@OBS_VALUE'].isnull()]['q']['@OBS_VALUE'].notnull()"
   ]
  },
  {
   "cell_type": "code",
   "execution_count": 59,
   "metadata": {
    "collapsed": false
   },
   "outputs": [],
   "source": [
    "values = test[test == True].reset_index().set_index('level_0').full_name.unique()"
   ]
  },
  {
   "cell_type": "code",
   "execution_count": 91,
   "metadata": {
    "collapsed": false
   },
   "outputs": [],
   "source": [
    "#for m in merged[merged['p']['@OBS_VALUE'].notnull()].reset_index().set_index('level_0').full_name.unique():\n",
    "#    print m"
   ]
  },
  {
   "cell_type": "code",
   "execution_count": 104,
   "metadata": {
    "collapsed": false
   },
   "outputs": [],
   "source": [
    "# Create a dictionary of countries and their region match.\n",
    "region_codes = pd.read_csv('region_codes.csv', header=None, index_col=0).to_dict()[1]"
   ]
  },
  {
   "cell_type": "code",
   "execution_count": 129,
   "metadata": {
    "collapsed": false
   },
   "outputs": [],
   "source": [
    "for v in ['i', 'j']:\n",
    "    df[v] = df[v].apply(lambda x: iso3.get(x,x)) # replace country names\n",
    "#merged.dropna(axis=0)\n",
    "df['Group'] = df['Group'].map(df1.set_index('Group')['Hotel'])\n",
    "df\n",
    "\n",
    "df1.join(df2,on='Group')"
   ]
  },
  {
   "cell_type": "code",
   "execution_count": 215,
   "metadata": {
    "collapsed": false
   },
   "outputs": [],
   "source": [
    "#new = {}\n",
    "#for c, r in region_codes:\n",
    "#    new[c] = merged.reset_index()[merged.level_0 == r]\n",
    "df = merged.reset_index()#.set_index('level_0')\n",
    "#df.loc['BG', 'p'].join(df.loc['1C_903', 'p'])#[df.level_0=='BG'] = df[df.level_0=='1C_903']['p']"
   ]
  },
  {
   "cell_type": "code",
   "execution_count": 242,
   "metadata": {
    "collapsed": false
   },
   "outputs": [],
   "source": [
    "#df.loc['BG','p']['@BASE_YEAR'][0] = df.loc['1C_903', 'p']['@BASE_YEAR'][0]\n",
    "#new = {}\n",
    "#merged.loc['1C_903', 'p'].values\n",
    "#new['1C_903'] = df[df.level_0 == '1C_903'].set_index(['level_0','date'])['p']\n",
    "#new['BG'] = new['1C_903'].reset_index()"
   ]
  },
  {
   "cell_type": "code",
   "execution_count": 241,
   "metadata": {
    "collapsed": false
   },
   "outputs": [
    {
     "data": {
      "text/html": [
       "<div>\n",
       "<table border=\"1\" class=\"dataframe\">\n",
       "  <thead>\n",
       "    <tr>\n",
       "      <th></th>\n",
       "      <th>full_name</th>\n",
       "      <th>date</th>\n",
       "      <th colspan=\"2\" halign=\"left\">p</th>\n",
       "      <th>q</th>\n",
       "      <th>x</th>\n",
       "    </tr>\n",
       "    <tr>\n",
       "      <th></th>\n",
       "      <th></th>\n",
       "      <th></th>\n",
       "      <th>@BASE_YEAR</th>\n",
       "      <th>@OBS_VALUE</th>\n",
       "      <th>@OBS_VALUE</th>\n",
       "      <th>@OBS_VALUE</th>\n",
       "    </tr>\n",
       "    <tr>\n",
       "      <th>level_0</th>\n",
       "      <th></th>\n",
       "      <th></th>\n",
       "      <th></th>\n",
       "      <th></th>\n",
       "      <th></th>\n",
       "      <th></th>\n",
       "    </tr>\n",
       "  </thead>\n",
       "  <tbody>\n",
       "    <tr>\n",
       "      <th>BG</th>\n",
       "      <td>Bulgaria</td>\n",
       "      <td>2008-01-01</td>\n",
       "      <td>NaN</td>\n",
       "      <td>NaN</td>\n",
       "      <td>99.764007</td>\n",
       "      <td>2.248549e+10</td>\n",
       "    </tr>\n",
       "    <tr>\n",
       "      <th>BG</th>\n",
       "      <td>Bulgaria</td>\n",
       "      <td>2009-01-01</td>\n",
       "      <td>NaN</td>\n",
       "      <td>NaN</td>\n",
       "      <td>104.061766</td>\n",
       "      <td>1.637769e+10</td>\n",
       "    </tr>\n",
       "    <tr>\n",
       "      <th>BG</th>\n",
       "      <td>Bulgaria</td>\n",
       "      <td>2010-01-01</td>\n",
       "      <td>NaN</td>\n",
       "      <td>NaN</td>\n",
       "      <td>100.000000</td>\n",
       "      <td>2.057065e+10</td>\n",
       "    </tr>\n",
       "    <tr>\n",
       "      <th>BG</th>\n",
       "      <td>Bulgaria</td>\n",
       "      <td>2011-01-01</td>\n",
       "      <td>NaN</td>\n",
       "      <td>NaN</td>\n",
       "      <td>102.713979</td>\n",
       "      <td>2.822155e+10</td>\n",
       "    </tr>\n",
       "    <tr>\n",
       "      <th>BG</th>\n",
       "      <td>Bulgaria</td>\n",
       "      <td>2012-01-01</td>\n",
       "      <td>NaN</td>\n",
       "      <td>NaN</td>\n",
       "      <td>100.717493</td>\n",
       "      <td>2.666969e+10</td>\n",
       "    </tr>\n",
       "    <tr>\n",
       "      <th>BG</th>\n",
       "      <td>Bulgaria</td>\n",
       "      <td>2013-01-01</td>\n",
       "      <td>NaN</td>\n",
       "      <td>NaN</td>\n",
       "      <td>101.978671</td>\n",
       "      <td>2.949236e+10</td>\n",
       "    </tr>\n",
       "    <tr>\n",
       "      <th>BG</th>\n",
       "      <td>Bulgaria</td>\n",
       "      <td>2014-01-01</td>\n",
       "      <td>NaN</td>\n",
       "      <td>NaN</td>\n",
       "      <td>101.425051</td>\n",
       "      <td>3.087997e+10</td>\n",
       "    </tr>\n",
       "  </tbody>\n",
       "</table>\n",
       "</div>"
      ],
      "text/plain": [
       "        full_name       date          p                      q             x\n",
       "                             @BASE_YEAR @OBS_VALUE  @OBS_VALUE    @OBS_VALUE\n",
       "level_0                                                                     \n",
       "BG       Bulgaria 2008-01-01        NaN        NaN   99.764007  2.248549e+10\n",
       "BG       Bulgaria 2009-01-01        NaN        NaN  104.061766  1.637769e+10\n",
       "BG       Bulgaria 2010-01-01        NaN        NaN  100.000000  2.057065e+10\n",
       "BG       Bulgaria 2011-01-01        NaN        NaN  102.713979  2.822155e+10\n",
       "BG       Bulgaria 2012-01-01        NaN        NaN  100.717493  2.666969e+10\n",
       "BG       Bulgaria 2013-01-01        NaN        NaN  101.978671  2.949236e+10\n",
       "BG       Bulgaria 2014-01-01        NaN        NaN  101.425051  3.087997e+10"
      ]
     },
     "execution_count": 241,
     "metadata": {},
     "output_type": "execute_result"
    }
   ],
   "source": [
    "df.set_index('level_0').loc['BG']"
   ]
  },
  {
   "cell_type": "code",
   "execution_count": 168,
   "metadata": {
    "collapsed": false
   },
   "outputs": [],
   "source": [
    "#new['1C_903'].reset_index()['level_0'].replace(to_replace='1C_903', value='BG')\n",
    "#df['level_0'] = df['level_0'].map(region_codes)"
   ]
  },
  {
   "cell_type": "code",
   "execution_count": 240,
   "metadata": {
    "collapsed": false
   },
   "outputs": [],
   "source": [
    "df[df['level_0'] == 'BG']['p']['@BASE_YEAR'][154] = '2010'"
   ]
  },
  {
   "cell_type": "code",
   "execution_count": 269,
   "metadata": {
    "collapsed": false
   },
   "outputs": [],
   "source": [
    "#df# = df.set_index('level_0')"
   ]
  },
  {
   "cell_type": "code",
   "execution_count": 259,
   "metadata": {
    "collapsed": false
   },
   "outputs": [],
   "source": [
    "region = pd.DataFrame(df['level_0'].apply(lambda x: region_codes.get(x,x))).set_index('level_0')"
   ]
  },
  {
   "cell_type": "code",
   "execution_count": 306,
   "metadata": {
    "collapsed": false
   },
   "outputs": [],
   "source": [
    "region['p'] = region.join(df.reset_index()['p']['@BASE_YEAR'], how='inner')"
   ]
  },
  {
   "cell_type": "code",
   "execution_count": 308,
   "metadata": {
    "collapsed": false
   },
   "outputs": [],
   "source": [
    "country_codes = {v: k for k, v in region_codes.iteritems()}"
   ]
  },
  {
   "cell_type": "code",
   "execution_count": 311,
   "metadata": {
    "collapsed": false
   },
   "outputs": [
    {
     "data": {
      "text/plain": [
       "['A10', 'F6', 'U2', '1C_903', 'F97', 'XS25', 'XR43', 'F98', 'E1']"
      ]
     },
     "execution_count": 311,
     "metadata": {},
     "output_type": "execute_result"
    }
   ],
   "source": [
    "country_codes.keys()"
   ]
  },
  {
   "cell_type": "code",
   "execution_count": 317,
   "metadata": {
    "collapsed": false
   },
   "outputs": [],
   "source": [
    "region_p = df[df.index.isin(country_codes.keys())]['p']"
   ]
  },
  {
   "cell_type": "code",
   "execution_count": 92,
   "metadata": {
    "collapsed": false
   },
   "outputs": [],
   "source": [
    "#pd.DataFrame(merged.reset_index()[['level_0', 'full_name']]).set_index('level_0').drop_duplicates().to_csv('test.csv', index=True) # save as csv)"
   ]
  }
 ],
 "metadata": {
  "kernelspec": {
   "display_name": "Python 2",
   "language": "python",
   "name": "python2"
  },
  "language_info": {
   "codemirror_mode": {
    "name": "ipython",
    "version": 2
   },
   "file_extension": ".py",
   "mimetype": "text/x-python",
   "name": "python",
   "nbconvert_exporter": "python",
   "pygments_lexer": "ipython2",
   "version": "2.7.10"
  }
 },
 "nbformat": 4,
 "nbformat_minor": 0
}
