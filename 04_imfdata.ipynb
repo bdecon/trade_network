{
 "cells": [
  {
   "cell_type": "markdown",
   "metadata": {},
   "source": [
    "# Trade network analysis\n",
    "**Brian Dew (brianwdew@gmail.com)**\n",
    "\n",
    "`04_imfdata.ipynb`\n",
    "\n",
    "Builds a dataframe of relevant economic indicators for later use in hypothesis testing.\n",
    "\n",
    "Required file:\n",
    "\n",
    "* region_codes.csv - Mapping of countries with missing price data to areas with price data.\n",
    "\n",
    "---\n",
    "\n",
    "METODO: \n",
    "\n",
    "1. Change from ISO2 to ISO3 country codes.\n",
    "2. Deflate price of exports using index.\n",
    "       "
   ]
  },
  {
   "cell_type": "markdown",
   "metadata": {},
   "source": [
    "#### Import packages\n",
    "\n",
    "The requests package and pandas are used to collect data from the IMF API. "
   ]
  },
  {
   "cell_type": "code",
   "execution_count": 1,
   "metadata": {
    "collapsed": true
   },
   "outputs": [],
   "source": [
    "import requests                                             # For requesting json data from the url\n",
    "import pandas as pd                                         # pandas dataframes used for convenience\n",
    "import os                                                   # change current directory in next line\n",
    "os.chdir('C:/Working/trade_network/data/')"
   ]
  },
  {
   "cell_type": "markdown",
   "metadata": {},
   "source": [
    "#### settings for API request\n",
    "\n",
    "First, several variables are defined in later build the URL that requests the data of interest. These variables include the data request [method](http://datahelp.imf.org/knowledgebase/articles/667681-json-restful-web-service), the series (International Financial Statistics), the frequency (Annual), the indicators (Total exports, real effective exchange rate, and import price index), and the date range (2008 to 2014). "
   ]
  },
  {
   "cell_type": "code",
   "execution_count": 10,
   "metadata": {
    "collapsed": false
   },
   "outputs": [],
   "source": [
    "webserv = 'http://dataservices.imf.org/REST/SDMX_JSON.svc/' # the main URL for the JSON rest API\n",
    "methodCD = 'CompactData/'                                     # CompactData contains only the data \n",
    "methodDS = 'DataStructure/' # This method gives info on the country names, units, and indicator names\n",
    "series = 'IFS'                                              # International Financial Statistics series\n",
    "freq = 'A'                                                  # Annual\n",
    "# Set of IFS indicators of interest \n",
    "inds = {'x': 'TXG_FOB_USD', 'q': 'EREER_IX', 'mp': 'TMG_D_USD_CIF_IX', 'xp': 'TXG_D_USD_FOB_IX'}  \n",
    "date = '?startPeriod=2008&endPeriod=2015'                   # Date range of interest"
   ]
  },
  {
   "cell_type": "markdown",
   "metadata": {},
   "source": [
    "#### Dictionaries of codes\n",
    "\n",
    "Create dictionaries with country, indicator, and unit multiplier codes from the IMF's code list. Region codes are identified manually in a csv file. The source of the mapping is [here](https://www.imf.org/external/pubs/ft/weo/2016/02/weodata/groups.htm)"
   ]
  },
  {
   "cell_type": "code",
   "execution_count": 11,
   "metadata": {
    "collapsed": false
   },
   "outputs": [],
   "source": [
    "urlDS = webserv+methodDS+series   # url to access IMF datastructure method API\n",
    "# Request data from IMF JSON RESTful API URL above. Navigate to the code list:\n",
    "dataDS = requests.get(urlDS).json()['Structure']['CodeLists']['CodeList']#\n",
    "df = pd.DataFrame(dataDS[2]['Code']).set_index('@value')               # area names here\n",
    "area_names = {c : df['Description'].loc[c]['#text'] for c in df.index.values}\n",
    "df = pd.DataFrame(dataDS[3]['Code']).set_index('@value')               # indicator codes\n",
    "ifs_inds = {i : df['Description'].loc[i]['#text'] for i in df.index.values}\n",
    "df = pd.DataFrame(dataDS[0]['Code']).set_index('@value')               # unit codes\n",
    "unit_codes = {m : df['Annotations'].loc[m]['Annotation'][2]['AnnotationText']['#text'] \n",
    "              for m in df.index.values}\n",
    "# A csv file maps countries with missing price data to their regions, and this is read below:\n",
    "region_codes = pd.read_csv('region_codes.csv', header=None, index_col=0).to_dict()[1] # id'd manually"
   ]
  },
  {
   "cell_type": "markdown",
   "metadata": {},
   "source": [
    "#### Print out the full indicator names\n",
    "\n",
    "The full name of the indicator tells the unit of measurement."
   ]
  },
  {
   "cell_type": "code",
   "execution_count": 4,
   "metadata": {
    "collapsed": false
   },
   "outputs": [
    {
     "name": "stdout",
     "output_type": "stream",
     "text": [
      "EREER_IX: Real Effective Exchange Rate, based on Consumer Price Index, Index\n",
      "TXG_FOB_USD: Goods, Value of Exports, Free on board (FOB), US Dollars\n",
      "TXG_D_USD_FOB_IX: Goods, Deflator/Unit Value of Exports, Index, US Dollars, Index\n",
      "TMG_D_USD_CIF_IX: Goods, Deflator/Unit Value of Imports, US Dollars, Index\n"
     ]
    }
   ],
   "source": [
    "for k in inds.keys():                         # keys are the x, p, q values in inds\n",
    "    print inds[k]+': '+ifs_inds[inds[k]]      # print the indicator id and name"
   ]
  },
  {
   "cell_type": "markdown",
   "metadata": {},
   "source": [
    "#### Loop with API request for each indicator\n",
    "\n",
    "Using the IMF API, data on exports, prices, and exchange rates are collected for all available countries during 2008-2014. \n",
    "\n",
    "First raw data is requested for each indicator. \n",
    "\n",
    "Next, the units are adjusted to its multiplier (for example, if the value is 24 and the unit multiplier is 6, you effectively add six zeros or multiply by 1,000,000)."
   ]
  },
  {
   "cell_type": "code",
   "execution_count": 12,
   "metadata": {
    "collapsed": false
   },
   "outputs": [],
   "source": [
    "fd = {} # dictionary for saving each series from inds above\n",
    "unit_mult = {} # dictionary for saving unit multipliers by country and indicator\n",
    "for k, v in inds.iteritems(): # k is the key and v is the value\n",
    "    url = webserv+methodCD+series+'/'+freq+'..'+v+'.'+date # print url to see\n",
    "    # Build a dataframe for each indicator with the raw data from the IMF API:\n",
    "    df = pd.DataFrame(requests.get(url).json()\n",
    "                      ['CompactData']['DataSet']['Series']).set_index('@REF_AREA')\n",
    "    df['@UNIT_MULT'] = df['@UNIT_MULT'].map(unit_codes) # match unit codes with unit multipliers\n",
    "    df = df[df['Obs'].apply(lambda x: isinstance(x, list))] # drops empties\n",
    "    d = {} # temporary dict to save country by country dataframes\n",
    "    for c in df.index.values: # index values are countries (@REF_AREA) as set above\n",
    "        d[c] = pd.DataFrame(df.loc[c]['Obs']).rename(columns={'@TIME_PERIOD':'date'})\n",
    "        # Multiply units by unity multiplier value. \n",
    "        d[c]['@OBS_VALUE'] = pd.to_numeric(d[c]['@OBS_VALUE']) * int(df['@UNIT_MULT'][c]) \n",
    "    # Concatenate all country rows into one dataframe for each indicator:\n",
    "    fd[k]= pd.concat(d, axis=0).reset_index().set_index(['level_0','date']).drop('level_1', 1) "
   ]
  },
  {
   "cell_type": "markdown",
   "metadata": {},
   "source": [
    "#### Find missing price data"
   ]
  },
  {
   "cell_type": "code",
   "execution_count": 14,
   "metadata": {
    "collapsed": false
   },
   "outputs": [
    {
     "name": "stdout",
     "output_type": "stream",
     "text": [
      "AG\n",
      "AM\n",
      "AN\n",
      "AT\n",
      "BG\n",
      "BH\n",
      "BI\n",
      "BS\n",
      "BZ\n",
      "CD\n",
      "CF\n",
      "CH\n",
      "CI\n",
      "CL\n",
      "CM\n",
      "CN\n",
      "CO\n",
      "CR\n",
      "CY\n",
      "CZ\n",
      "DM\n",
      "DO\n",
      "DZ\n",
      "FJ\n",
      "FR\n",
      "GA\n",
      "GD\n",
      "GE\n",
      "GH\n",
      "GM\n",
      "GQ\n",
      "GY\n",
      "HR\n",
      "IR\n",
      "IS\n",
      "KN\n",
      "LC\n",
      "LS\n",
      "LU\n",
      "LV\n",
      "MA\n",
      "MD\n",
      "MK\n",
      "MT\n",
      "MW\n",
      "MX\n",
      "MY\n",
      "NG\n",
      "NI\n",
      "PH\n",
      "PL\n",
      "PT\n",
      "PY\n",
      "RO\n",
      "RU\n",
      "SB\n",
      "SK\n",
      "SL\n",
      "TG\n",
      "TN\n",
      "TT\n",
      "UA\n",
      "UG\n",
      "UY\n",
      "VC\n",
      "VE\n",
      "WS\n",
      "ZA\n",
      "ZM\n"
     ]
    }
   ],
   "source": [
    "#merged = pd.concat(fd, axis=1).reset_index() # combine all series to one merged dataframe\n",
    "#merged['full_name'] = merged['level_0'].map(area_names)    # add column with full name of area\n",
    "#merged = merged.set_index(['level_0','full_name','date'])  # set index to country and date\n",
    "#merged = merged[merged['xp']['@BASE_YEAR'].isnull()]\n",
    "#missing = merged[merged['q']['@OBS_VALUE'] > 0].reset_index()['level_0'].unique()\n",
    "#for prod in missing:\n",
    "#    print prod"
   ]
  },
  {
   "cell_type": "markdown",
   "metadata": {},
   "source": [
    "#### Replace missing price data with regional data\n",
    "Price data is missing for many countries, however, an acceptable substitute is the regional values. I've manually mapped out which region (with full data) best matches with each country in the `region_codes` dictionary. To replace missing values, I loop through the dictionary and set the country value equal to the region value. \n",
    "\n",
    "The IMF area groupings are [here](https://www.imf.org/external/pubs/ft/weo/2016/02/weodata/groups.htm)."
   ]
  },
  {
   "cell_type": "code",
   "execution_count": 7,
   "metadata": {
    "collapsed": false
   },
   "outputs": [
    {
     "ename": "KeyError",
     "evalue": "('F97', u'2007')",
     "output_type": "error",
     "traceback": [
      "\u001b[1;31m---------------------------------------------------------------------------\u001b[0m",
      "\u001b[1;31mKeyError\u001b[0m                                  Traceback (most recent call last)",
      "\u001b[1;32m<ipython-input-7-45868bb5defe>\u001b[0m in \u001b[0;36m<module>\u001b[1;34m()\u001b[0m\n\u001b[0;32m      3\u001b[0m \u001b[1;32mfor\u001b[0m \u001b[0mk\u001b[0m\u001b[1;33m,\u001b[0m \u001b[0mv\u001b[0m \u001b[1;32min\u001b[0m \u001b[0mregion_codes\u001b[0m\u001b[1;33m.\u001b[0m\u001b[0miteritems\u001b[0m\u001b[1;33m(\u001b[0m\u001b[1;33m)\u001b[0m\u001b[1;33m:\u001b[0m   \u001b[1;31m# region_codes is a dictionary of {country code: region code}\u001b[0m\u001b[1;33m\u001b[0m\u001b[0m\n\u001b[0;32m      4\u001b[0m     \u001b[1;32mfor\u001b[0m \u001b[0mdate\u001b[0m \u001b[1;32min\u001b[0m \u001b[0mdate_range\u001b[0m\u001b[1;33m:\u001b[0m  \u001b[1;31m# repeate the replacement for each year in the data.\u001b[0m\u001b[1;33m\u001b[0m\u001b[0m\n\u001b[1;32m----> 5\u001b[1;33m         \u001b[0mfd\u001b[0m\u001b[1;33m[\u001b[0m\u001b[1;34m'mp'\u001b[0m\u001b[1;33m]\u001b[0m\u001b[1;33m.\u001b[0m\u001b[0mloc\u001b[0m\u001b[1;33m[\u001b[0m\u001b[1;33m(\u001b[0m\u001b[0mk\u001b[0m\u001b[1;33m,\u001b[0m \u001b[0mdate\u001b[0m\u001b[1;33m)\u001b[0m\u001b[1;33m,\u001b[0m \u001b[0mp_subinds\u001b[0m\u001b[1;33m]\u001b[0m \u001b[1;33m=\u001b[0m \u001b[0mfd\u001b[0m\u001b[1;33m[\u001b[0m\u001b[1;34m'mp'\u001b[0m\u001b[1;33m]\u001b[0m\u001b[1;33m.\u001b[0m\u001b[0mloc\u001b[0m\u001b[1;33m[\u001b[0m\u001b[1;33m(\u001b[0m\u001b[0mv\u001b[0m\u001b[1;33m,\u001b[0m \u001b[0mdate\u001b[0m\u001b[1;33m)\u001b[0m\u001b[1;33m,\u001b[0m \u001b[0mp_subinds\u001b[0m\u001b[1;33m]\u001b[0m\u001b[1;33m\u001b[0m\u001b[0m\n\u001b[0m\u001b[0;32m      6\u001b[0m         \u001b[0mfd\u001b[0m\u001b[1;33m[\u001b[0m\u001b[1;34m'xp'\u001b[0m\u001b[1;33m]\u001b[0m\u001b[1;33m.\u001b[0m\u001b[0mloc\u001b[0m\u001b[1;33m[\u001b[0m\u001b[1;33m(\u001b[0m\u001b[0mk\u001b[0m\u001b[1;33m,\u001b[0m \u001b[0mdate\u001b[0m\u001b[1;33m)\u001b[0m\u001b[1;33m,\u001b[0m \u001b[0mp_subinds\u001b[0m\u001b[1;33m]\u001b[0m \u001b[1;33m=\u001b[0m \u001b[0mfd\u001b[0m\u001b[1;33m[\u001b[0m\u001b[1;34m'xp'\u001b[0m\u001b[1;33m]\u001b[0m\u001b[1;33m.\u001b[0m\u001b[0mloc\u001b[0m\u001b[1;33m[\u001b[0m\u001b[1;33m(\u001b[0m\u001b[0mv\u001b[0m\u001b[1;33m,\u001b[0m \u001b[0mdate\u001b[0m\u001b[1;33m)\u001b[0m\u001b[1;33m,\u001b[0m \u001b[0mp_subinds\u001b[0m\u001b[1;33m]\u001b[0m\u001b[1;33m\u001b[0m\u001b[0m\n",
      "\u001b[1;32mC:\\Users\\BDew\\Anaconda2\\lib\\site-packages\\pandas\\core\\indexing.pyc\u001b[0m in \u001b[0;36m__getitem__\u001b[1;34m(self, key)\u001b[0m\n\u001b[0;32m   1282\u001b[0m     \u001b[1;32mdef\u001b[0m \u001b[0m__getitem__\u001b[0m\u001b[1;33m(\u001b[0m\u001b[0mself\u001b[0m\u001b[1;33m,\u001b[0m \u001b[0mkey\u001b[0m\u001b[1;33m)\u001b[0m\u001b[1;33m:\u001b[0m\u001b[1;33m\u001b[0m\u001b[0m\n\u001b[0;32m   1283\u001b[0m         \u001b[1;32mif\u001b[0m \u001b[0mtype\u001b[0m\u001b[1;33m(\u001b[0m\u001b[0mkey\u001b[0m\u001b[1;33m)\u001b[0m \u001b[1;32mis\u001b[0m \u001b[0mtuple\u001b[0m\u001b[1;33m:\u001b[0m\u001b[1;33m\u001b[0m\u001b[0m\n\u001b[1;32m-> 1284\u001b[1;33m             \u001b[1;32mreturn\u001b[0m \u001b[0mself\u001b[0m\u001b[1;33m.\u001b[0m\u001b[0m_getitem_tuple\u001b[0m\u001b[1;33m(\u001b[0m\u001b[0mkey\u001b[0m\u001b[1;33m)\u001b[0m\u001b[1;33m\u001b[0m\u001b[0m\n\u001b[0m\u001b[0;32m   1285\u001b[0m         \u001b[1;32melse\u001b[0m\u001b[1;33m:\u001b[0m\u001b[1;33m\u001b[0m\u001b[0m\n\u001b[0;32m   1286\u001b[0m             \u001b[1;32mreturn\u001b[0m \u001b[0mself\u001b[0m\u001b[1;33m.\u001b[0m\u001b[0m_getitem_axis\u001b[0m\u001b[1;33m(\u001b[0m\u001b[0mkey\u001b[0m\u001b[1;33m,\u001b[0m \u001b[0maxis\u001b[0m\u001b[1;33m=\u001b[0m\u001b[1;36m0\u001b[0m\u001b[1;33m)\u001b[0m\u001b[1;33m\u001b[0m\u001b[0m\n",
      "\u001b[1;32mC:\\Users\\BDew\\Anaconda2\\lib\\site-packages\\pandas\\core\\indexing.pyc\u001b[0m in \u001b[0;36m_getitem_tuple\u001b[1;34m(self, tup)\u001b[0m\n\u001b[0;32m    778\u001b[0m     \u001b[1;32mdef\u001b[0m \u001b[0m_getitem_tuple\u001b[0m\u001b[1;33m(\u001b[0m\u001b[0mself\u001b[0m\u001b[1;33m,\u001b[0m \u001b[0mtup\u001b[0m\u001b[1;33m)\u001b[0m\u001b[1;33m:\u001b[0m\u001b[1;33m\u001b[0m\u001b[0m\n\u001b[0;32m    779\u001b[0m         \u001b[1;32mtry\u001b[0m\u001b[1;33m:\u001b[0m\u001b[1;33m\u001b[0m\u001b[0m\n\u001b[1;32m--> 780\u001b[1;33m             \u001b[1;32mreturn\u001b[0m \u001b[0mself\u001b[0m\u001b[1;33m.\u001b[0m\u001b[0m_getitem_lowerdim\u001b[0m\u001b[1;33m(\u001b[0m\u001b[0mtup\u001b[0m\u001b[1;33m)\u001b[0m\u001b[1;33m\u001b[0m\u001b[0m\n\u001b[0m\u001b[0;32m    781\u001b[0m         \u001b[1;32mexcept\u001b[0m \u001b[0mIndexingError\u001b[0m\u001b[1;33m:\u001b[0m\u001b[1;33m\u001b[0m\u001b[0m\n\u001b[0;32m    782\u001b[0m             \u001b[1;32mpass\u001b[0m\u001b[1;33m\u001b[0m\u001b[0m\n",
      "\u001b[1;32mC:\\Users\\BDew\\Anaconda2\\lib\\site-packages\\pandas\\core\\indexing.pyc\u001b[0m in \u001b[0;36m_getitem_lowerdim\u001b[1;34m(self, tup)\u001b[0m\n\u001b[0;32m    885\u001b[0m         \u001b[1;31m# we may have a nested tuples indexer here\u001b[0m\u001b[1;33m\u001b[0m\u001b[1;33m\u001b[0m\u001b[0m\n\u001b[0;32m    886\u001b[0m         \u001b[1;32mif\u001b[0m \u001b[0mself\u001b[0m\u001b[1;33m.\u001b[0m\u001b[0m_is_nested_tuple_indexer\u001b[0m\u001b[1;33m(\u001b[0m\u001b[0mtup\u001b[0m\u001b[1;33m)\u001b[0m\u001b[1;33m:\u001b[0m\u001b[1;33m\u001b[0m\u001b[0m\n\u001b[1;32m--> 887\u001b[1;33m             \u001b[1;32mreturn\u001b[0m \u001b[0mself\u001b[0m\u001b[1;33m.\u001b[0m\u001b[0m_getitem_nested_tuple\u001b[0m\u001b[1;33m(\u001b[0m\u001b[0mtup\u001b[0m\u001b[1;33m)\u001b[0m\u001b[1;33m\u001b[0m\u001b[0m\n\u001b[0m\u001b[0;32m    888\u001b[0m \u001b[1;33m\u001b[0m\u001b[0m\n\u001b[0;32m    889\u001b[0m         \u001b[1;31m# we maybe be using a tuple to represent multiple dimensions here\u001b[0m\u001b[1;33m\u001b[0m\u001b[1;33m\u001b[0m\u001b[0m\n",
      "\u001b[1;32mC:\\Users\\BDew\\Anaconda2\\lib\\site-packages\\pandas\\core\\indexing.pyc\u001b[0m in \u001b[0;36m_getitem_nested_tuple\u001b[1;34m(self, tup)\u001b[0m\n\u001b[0;32m    958\u001b[0m \u001b[1;33m\u001b[0m\u001b[0m\n\u001b[0;32m    959\u001b[0m             \u001b[0mcurrent_ndim\u001b[0m \u001b[1;33m=\u001b[0m \u001b[0mobj\u001b[0m\u001b[1;33m.\u001b[0m\u001b[0mndim\u001b[0m\u001b[1;33m\u001b[0m\u001b[0m\n\u001b[1;32m--> 960\u001b[1;33m             \u001b[0mobj\u001b[0m \u001b[1;33m=\u001b[0m \u001b[0mgetattr\u001b[0m\u001b[1;33m(\u001b[0m\u001b[0mobj\u001b[0m\u001b[1;33m,\u001b[0m \u001b[0mself\u001b[0m\u001b[1;33m.\u001b[0m\u001b[0mname\u001b[0m\u001b[1;33m)\u001b[0m\u001b[1;33m.\u001b[0m\u001b[0m_getitem_axis\u001b[0m\u001b[1;33m(\u001b[0m\u001b[0mkey\u001b[0m\u001b[1;33m,\u001b[0m \u001b[0maxis\u001b[0m\u001b[1;33m=\u001b[0m\u001b[0maxis\u001b[0m\u001b[1;33m)\u001b[0m\u001b[1;33m\u001b[0m\u001b[0m\n\u001b[0m\u001b[0;32m    961\u001b[0m             \u001b[0maxis\u001b[0m \u001b[1;33m+=\u001b[0m \u001b[1;36m1\u001b[0m\u001b[1;33m\u001b[0m\u001b[0m\n\u001b[0;32m    962\u001b[0m \u001b[1;33m\u001b[0m\u001b[0m\n",
      "\u001b[1;32mC:\\Users\\BDew\\Anaconda2\\lib\\site-packages\\pandas\\core\\indexing.pyc\u001b[0m in \u001b[0;36m_getitem_axis\u001b[1;34m(self, key, axis)\u001b[0m\n\u001b[0;32m   1428\u001b[0m         \u001b[1;31m# fall thru to straight lookup\u001b[0m\u001b[1;33m\u001b[0m\u001b[1;33m\u001b[0m\u001b[0m\n\u001b[0;32m   1429\u001b[0m         \u001b[0mself\u001b[0m\u001b[1;33m.\u001b[0m\u001b[0m_has_valid_type\u001b[0m\u001b[1;33m(\u001b[0m\u001b[0mkey\u001b[0m\u001b[1;33m,\u001b[0m \u001b[0maxis\u001b[0m\u001b[1;33m)\u001b[0m\u001b[1;33m\u001b[0m\u001b[0m\n\u001b[1;32m-> 1430\u001b[1;33m         \u001b[1;32mreturn\u001b[0m \u001b[0mself\u001b[0m\u001b[1;33m.\u001b[0m\u001b[0m_get_label\u001b[0m\u001b[1;33m(\u001b[0m\u001b[0mkey\u001b[0m\u001b[1;33m,\u001b[0m \u001b[0maxis\u001b[0m\u001b[1;33m=\u001b[0m\u001b[0maxis\u001b[0m\u001b[1;33m)\u001b[0m\u001b[1;33m\u001b[0m\u001b[0m\n\u001b[0m\u001b[0;32m   1431\u001b[0m \u001b[1;33m\u001b[0m\u001b[0m\n\u001b[0;32m   1432\u001b[0m \u001b[1;33m\u001b[0m\u001b[0m\n",
      "\u001b[1;32mC:\\Users\\BDew\\Anaconda2\\lib\\site-packages\\pandas\\core\\indexing.pyc\u001b[0m in \u001b[0;36m_get_label\u001b[1;34m(self, label, axis)\u001b[0m\n\u001b[0;32m     91\u001b[0m             \u001b[1;32mraise\u001b[0m \u001b[0mIndexingError\u001b[0m\u001b[1;33m(\u001b[0m\u001b[1;34m'no slices here, handle elsewhere'\u001b[0m\u001b[1;33m)\u001b[0m\u001b[1;33m\u001b[0m\u001b[0m\n\u001b[0;32m     92\u001b[0m \u001b[1;33m\u001b[0m\u001b[0m\n\u001b[1;32m---> 93\u001b[1;33m         \u001b[1;32mreturn\u001b[0m \u001b[0mself\u001b[0m\u001b[1;33m.\u001b[0m\u001b[0mobj\u001b[0m\u001b[1;33m.\u001b[0m\u001b[0m_xs\u001b[0m\u001b[1;33m(\u001b[0m\u001b[0mlabel\u001b[0m\u001b[1;33m,\u001b[0m \u001b[0maxis\u001b[0m\u001b[1;33m=\u001b[0m\u001b[0maxis\u001b[0m\u001b[1;33m)\u001b[0m\u001b[1;33m\u001b[0m\u001b[0m\n\u001b[0m\u001b[0;32m     94\u001b[0m \u001b[1;33m\u001b[0m\u001b[0m\n\u001b[0;32m     95\u001b[0m     \u001b[1;32mdef\u001b[0m \u001b[0m_get_loc\u001b[0m\u001b[1;33m(\u001b[0m\u001b[0mself\u001b[0m\u001b[1;33m,\u001b[0m \u001b[0mkey\u001b[0m\u001b[1;33m,\u001b[0m \u001b[0maxis\u001b[0m\u001b[1;33m=\u001b[0m\u001b[1;36m0\u001b[0m\u001b[1;33m)\u001b[0m\u001b[1;33m:\u001b[0m\u001b[1;33m\u001b[0m\u001b[0m\n",
      "\u001b[1;32mC:\\Users\\BDew\\Anaconda2\\lib\\site-packages\\pandas\\core\\generic.pyc\u001b[0m in \u001b[0;36mxs\u001b[1;34m(self, key, axis, level, copy, drop_level)\u001b[0m\n\u001b[0;32m   1740\u001b[0m         \u001b[1;32mif\u001b[0m \u001b[0misinstance\u001b[0m\u001b[1;33m(\u001b[0m\u001b[0mindex\u001b[0m\u001b[1;33m,\u001b[0m \u001b[0mMultiIndex\u001b[0m\u001b[1;33m)\u001b[0m\u001b[1;33m:\u001b[0m\u001b[1;33m\u001b[0m\u001b[0m\n\u001b[0;32m   1741\u001b[0m             loc, new_index = self.index.get_loc_level(key,\n\u001b[1;32m-> 1742\u001b[1;33m                                                       drop_level=drop_level)\n\u001b[0m\u001b[0;32m   1743\u001b[0m         \u001b[1;32melse\u001b[0m\u001b[1;33m:\u001b[0m\u001b[1;33m\u001b[0m\u001b[0m\n\u001b[0;32m   1744\u001b[0m             \u001b[0mloc\u001b[0m \u001b[1;33m=\u001b[0m \u001b[0mself\u001b[0m\u001b[1;33m.\u001b[0m\u001b[0mindex\u001b[0m\u001b[1;33m.\u001b[0m\u001b[0mget_loc\u001b[0m\u001b[1;33m(\u001b[0m\u001b[0mkey\u001b[0m\u001b[1;33m)\u001b[0m\u001b[1;33m\u001b[0m\u001b[0m\n",
      "\u001b[1;32mC:\\Users\\BDew\\Anaconda2\\lib\\site-packages\\pandas\\indexes\\multi.pyc\u001b[0m in \u001b[0;36mget_loc_level\u001b[1;34m(self, key, level, drop_level)\u001b[0m\n\u001b[0;32m   1655\u001b[0m                             \u001b[0mkey\u001b[0m \u001b[1;33m=\u001b[0m \u001b[0mtuple\u001b[0m\u001b[1;33m(\u001b[0m\u001b[0mself\u001b[0m\u001b[1;33m[\u001b[0m\u001b[0mindexer\u001b[0m\u001b[1;33m]\u001b[0m\u001b[1;33m.\u001b[0m\u001b[0mtolist\u001b[0m\u001b[1;33m(\u001b[0m\u001b[1;33m)\u001b[0m\u001b[1;33m[\u001b[0m\u001b[1;36m0\u001b[0m\u001b[1;33m]\u001b[0m\u001b[1;33m)\u001b[0m\u001b[1;33m\u001b[0m\u001b[0m\n\u001b[0;32m   1656\u001b[0m \u001b[1;33m\u001b[0m\u001b[0m\n\u001b[1;32m-> 1657\u001b[1;33m                         return (self._engine.get_loc(_values_from_object(key)),\n\u001b[0m\u001b[0;32m   1658\u001b[0m                                 None)\n\u001b[0;32m   1659\u001b[0m                     \u001b[1;32melse\u001b[0m\u001b[1;33m:\u001b[0m\u001b[1;33m\u001b[0m\u001b[0m\n",
      "\u001b[1;32mpandas\\index.pyx\u001b[0m in \u001b[0;36mpandas.index.IndexEngine.get_loc (pandas\\index.c:4027)\u001b[1;34m()\u001b[0m\n",
      "\u001b[1;32mpandas\\index.pyx\u001b[0m in \u001b[0;36mpandas.index.IndexEngine.get_loc (pandas\\index.c:3891)\u001b[1;34m()\u001b[0m\n",
      "\u001b[1;32mpandas\\hashtable.pyx\u001b[0m in \u001b[0;36mpandas.hashtable.PyObjectHashTable.get_item (pandas\\hashtable.c:12408)\u001b[1;34m()\u001b[0m\n",
      "\u001b[1;32mpandas\\hashtable.pyx\u001b[0m in \u001b[0;36mpandas.hashtable.PyObjectHashTable.get_item (pandas\\hashtable.c:12359)\u001b[1;34m()\u001b[0m\n",
      "\u001b[1;31mKeyError\u001b[0m: ('F97', u'2007')"
     ]
    }
   ],
   "source": [
    "date_range = fd['xp'].loc['DE'].reset_index().date.values  # Germany selected (automate!)\n",
    "p_subinds = ['@BASE_YEAR' ,'@OBS_VALUE']  # To save space below these are the sub indicators for prices\n",
    "for k, v in region_codes.iteritems():   # region_codes is a dictionary of {country code: region code}\n",
    "    for date in date_range:  # repeate the replacement for each year in the data.\n",
    "        fd['mp'].loc[(k, date), p_subinds] = fd['mp'].loc[(v, date), p_subinds]\n",
    "        fd['xp'].loc[(k, date), p_subinds] = fd['xp'].loc[(v, date), p_subinds] "
   ]
  },
  {
   "cell_type": "markdown",
   "metadata": {},
   "source": [
    "#### Merge and save\n",
    "The `merged` dataframe combines all indicators as well as the full name of the country or area into one dataframe"
   ]
  },
  {
   "cell_type": "code",
   "execution_count": null,
   "metadata": {
    "collapsed": true
   },
   "outputs": [],
   "source": [
    "# The last step is to merge the various indicator values (prices, exports, etc) into one dataframe        \n",
    "merged = pd.concat(fd, axis=1).reset_index() # combine all series to one merged dataframe\n",
    "merged['full_name'] = merged['level_0'].map(area_names)    # add column with full name of area\n",
    "merged = merged.set_index(['level_0','full_name','date'])  # set index to country and date\n",
    "merged.dropna().to_csv('imf_data.csv')                      # drop missing and save as csv file"
   ]
  }
 ],
 "metadata": {
  "kernelspec": {
   "display_name": "Python 2",
   "language": "python",
   "name": "python2"
  },
  "language_info": {
   "codemirror_mode": {
    "name": "ipython",
    "version": 2
   },
   "file_extension": ".py",
   "mimetype": "text/x-python",
   "name": "python",
   "nbconvert_exporter": "python",
   "pygments_lexer": "ipython2",
   "version": "2.7.12"
  }
 },
 "nbformat": 4,
 "nbformat_minor": 0
}
