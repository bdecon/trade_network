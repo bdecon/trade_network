{
 "cells": [
  {
   "cell_type": "markdown",
   "metadata": {},
   "source": [
    "# Trade network analysis\n",
    "**Brian Dew (brianwdew@gmail.com)**\n",
    "\n",
    "**04_imfdata.ipynb**\n",
    "\n",
    "Using the IMF API, data on exports, prices, and exchange rates are collected for all available countries during 2008-2014."
   ]
  },
  {
   "cell_type": "markdown",
   "metadata": {},
   "source": [
    "#### Import packages"
   ]
  },
  {
   "cell_type": "code",
   "execution_count": 1,
   "metadata": {
    "collapsed": true
   },
   "outputs": [],
   "source": [
    "import requests                                             # For requesting json data from the url\n",
    "import pandas as pd                                         # pandas dataframes used for convenience\n",
    "import os                                                   # change current directory in next line\n",
    "os.chdir('C:/Working/trade_network/data/')"
   ]
  },
  {
   "cell_type": "markdown",
   "metadata": {},
   "source": [
    "#### settings for API request"
   ]
  },
  {
   "cell_type": "code",
   "execution_count": 2,
   "metadata": {
    "collapsed": false
   },
   "outputs": [],
   "source": [
    "webserv = 'http://dataservices.imf.org/REST/SDMX_JSON.svc/' # the main URL for the JSON rest API\n",
    "method = 'CompactData/'                                     # Data is stored here. Datastructure has info\n",
    "series = 'IFS'                                              # International Financial Statistics series\n",
    "freq = 'A'                                                  # Annual\n",
    "inds = {'x': 'TXG_FOB_USD', 'q': 'EREER_IX', 'p': 'TMG_D_USD_CIF_IX'}  # Set of IFS indicators of interest\n",
    "date = '?startPeriod=2008&endPeriod=2014'                   # Date range of interest"
   ]
  },
  {
   "cell_type": "markdown",
   "metadata": {},
   "source": [
    "#### Loop with API request for each indicators"
   ]
  },
  {
   "cell_type": "code",
   "execution_count": 18,
   "metadata": {
    "collapsed": false
   },
   "outputs": [
    {
     "name": "stdout",
     "output_type": "stream",
     "text": [
      "http://dataservices.imf.org/REST/SDMX_JSON.svc/CompactData/IFS/A..EREER_IX.?startPeriod=2008&endPeriod=2014\n",
      "http://dataservices.imf.org/REST/SDMX_JSON.svc/CompactData/IFS/A..TXG_FOB_USD.?startPeriod=2008&endPeriod=2014\n",
      "http://dataservices.imf.org/REST/SDMX_JSON.svc/CompactData/IFS/A..TMG_D_USD_CIF_IX.?startPeriod=2008&endPeriod=2014\n"
     ]
    },
    {
     "data": {
      "text/html": [
       "<div>\n",
       "<table border=\"1\" class=\"dataframe\">\n",
       "  <thead>\n",
       "    <tr>\n",
       "      <th></th>\n",
       "      <th></th>\n",
       "      <th colspan=\"2\" halign=\"left\">p</th>\n",
       "      <th>q</th>\n",
       "      <th>x</th>\n",
       "    </tr>\n",
       "    <tr>\n",
       "      <th></th>\n",
       "      <th></th>\n",
       "      <th>@BASE_YEAR</th>\n",
       "      <th>@OBS_VALUE</th>\n",
       "      <th>@OBS_VALUE</th>\n",
       "      <th>@OBS_VALUE</th>\n",
       "    </tr>\n",
       "    <tr>\n",
       "      <th>level_0</th>\n",
       "      <th>date</th>\n",
       "      <th></th>\n",
       "      <th></th>\n",
       "      <th></th>\n",
       "      <th></th>\n",
       "    </tr>\n",
       "  </thead>\n",
       "  <tbody>\n",
       "    <tr>\n",
       "      <th rowspan=\"5\" valign=\"top\">ZW</th>\n",
       "      <th>2010-01-01</th>\n",
       "      <td>NaN</td>\n",
       "      <td>NaN</td>\n",
       "      <td>NaN</td>\n",
       "      <td>3199.231</td>\n",
       "    </tr>\n",
       "    <tr>\n",
       "      <th>2011-01-01</th>\n",
       "      <td>NaN</td>\n",
       "      <td>NaN</td>\n",
       "      <td>NaN</td>\n",
       "      <td>3512.125</td>\n",
       "    </tr>\n",
       "    <tr>\n",
       "      <th>2012-01-01</th>\n",
       "      <td>NaN</td>\n",
       "      <td>NaN</td>\n",
       "      <td>NaN</td>\n",
       "      <td>3800</td>\n",
       "    </tr>\n",
       "    <tr>\n",
       "      <th>2013-01-01</th>\n",
       "      <td>NaN</td>\n",
       "      <td>NaN</td>\n",
       "      <td>NaN</td>\n",
       "      <td>3551.886684</td>\n",
       "    </tr>\n",
       "    <tr>\n",
       "      <th>2014-01-01</th>\n",
       "      <td>NaN</td>\n",
       "      <td>NaN</td>\n",
       "      <td>NaN</td>\n",
       "      <td>3438</td>\n",
       "    </tr>\n",
       "  </tbody>\n",
       "</table>\n",
       "</div>"
      ],
      "text/plain": [
       "                            p                     q            x\n",
       "                   @BASE_YEAR @OBS_VALUE @OBS_VALUE   @OBS_VALUE\n",
       "level_0 date                                                    \n",
       "ZW      2010-01-01        NaN        NaN        NaN     3199.231\n",
       "        2011-01-01        NaN        NaN        NaN     3512.125\n",
       "        2012-01-01        NaN        NaN        NaN         3800\n",
       "        2013-01-01        NaN        NaN        NaN  3551.886684\n",
       "        2014-01-01        NaN        NaN        NaN         3438"
      ]
     },
     "execution_count": 18,
     "metadata": {},
     "output_type": "execute_result"
    }
   ],
   "source": [
    "fd = {} # dictionary for saving each series from inds above\n",
    "for k, v in inds.iteritems(): # k is the key and v is the value\n",
    "    url = webserv+method+series+'/'+freq+'..'+v+'.'+date # print url to see\n",
    "    df = pd.DataFrame(requests.get(url).json()['CompactData']['DataSet']['Series']).set_index('@REF_AREA')\n",
    "    df = df[df['Obs'].apply(lambda x: isinstance(x, list))] # drops empties\n",
    "    d = {} # temporary dict to save country by country dataframes\n",
    "    for c in df.index.values: # index values are countries (@REF_AREA) as set above\n",
    "        d[c] = pd.DataFrame(df.loc[c]['Obs']).rename(columns={'@TIME_PERIOD':'date'})\n",
    "        d[c]['date'] = pd.to_datetime(d[c]['date'].values) # set dates as datetime for index\n",
    "    fd[k]= pd.concat(d, axis=0).reset_index().set_index(['level_0','date']).drop('level_1', 1)\n",
    "merged = pd.concat(fd, axis=1) # combine all series to one merged dataframe"
   ]
  }
 ],
 "metadata": {
  "kernelspec": {
   "display_name": "Python 2",
   "language": "python",
   "name": "python2"
  },
  "language_info": {
   "codemirror_mode": {
    "name": "ipython",
    "version": 2
   },
   "file_extension": ".py",
   "mimetype": "text/x-python",
   "name": "python",
   "nbconvert_exporter": "python",
   "pygments_lexer": "ipython2",
   "version": "2.7.10"
  }
 },
 "nbformat": 4,
 "nbformat_minor": 0
}
