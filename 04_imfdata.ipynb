{
 "cells": [
  {
   "cell_type": "markdown",
   "metadata": {},
   "source": [
    "## Trade network analysis\n",
    "**Brian Dew (brianwdew@gmail.com)**\n",
    "\n",
    "`04_imfdata.ipynb`\n",
    "\n",
    "Builds a dataframe of relevant economic indicators for later use in hypothesis testing. The source is the IMF's International Financial Statistics, with data retrieved through the JSON RESTful API CompactData method.\n",
    "\n",
    "Required file:\n",
    "\n",
    "* region_codes.csv - Mapping of countries with missing price data to areas with price data.\n",
    "\n",
    "---\n",
    "\n",
    "       "
   ]
  },
  {
   "cell_type": "markdown",
   "metadata": {},
   "source": [
    "#### Import packages\n",
    "\n",
    "The requests package and pandas are used to collect data from the IMF API. "
   ]
  },
  {
   "cell_type": "code",
   "execution_count": 1,
   "metadata": {
    "collapsed": true
   },
   "outputs": [],
   "source": [
    "import requests                                             # For requesting json data from the url\n",
    "import pandas as pd                                         # pandas dataframes used for convenience\n",
    "import os                                                   # change current directory in next line\n",
    "os.chdir('C:/Working/trade_network/data/')"
   ]
  },
  {
   "cell_type": "markdown",
   "metadata": {},
   "source": [
    "#### settings for API request\n",
    "\n",
    "First, several variables are defined in later build the URL that requests the data of interest. These variables include the data request [method](http://datahelp.imf.org/knowledgebase/articles/667681-json-restful-web-service), the series (International Financial Statistics), the frequency (Annual), the indicators (Total exports, real effective exchange rate, and import price index), and the date range (2008 to 2014). "
   ]
  },
  {
   "cell_type": "code",
   "execution_count": 2,
   "metadata": {
    "collapsed": false
   },
   "outputs": [],
   "source": [
    "webserv = 'http://dataservices.imf.org/REST/SDMX_JSON.svc/' # the main URL for the JSON rest API\n",
    "methodCD = 'CompactData/'                                     # CompactData contains only the data \n",
    "methodDS = 'DataStructure/' # This method gives info on the country names, units, and indicator names\n",
    "series = 'IFS'                                              # International Financial Statistics series\n",
    "freq = 'A'                                                  # Annual\n",
    "# Set of IFS indicators of interest \n",
    "inds = {'x': 'TXG_FOB_USD', 'q': 'EREER_IX', 'mp': 'TMG_D_USD_CIF_IX', 'xp': 'TXG_D_USD_FOB_IX'}  \n",
    "date = '?startPeriod=2007&endPeriod=2015'                   # Date range of interest"
   ]
  },
  {
   "cell_type": "markdown",
   "metadata": {},
   "source": [
    "#### Dictionaries of codes\n",
    "\n",
    "Create dictionaries with country, indicator, and unit multiplier codes from the IMF's code list. Region codes are identified manually in a csv file. The source of the mapping is [here](https://www.imf.org/external/pubs/ft/weo/2016/02/weodata/groups.htm)"
   ]
  },
  {
   "cell_type": "code",
   "execution_count": 3,
   "metadata": {
    "collapsed": false
   },
   "outputs": [],
   "source": [
    "urlDS = webserv+methodDS+series   # url to access IMF datastructure method API\n",
    "# Request data from IMF JSON RESTful API URL above. Navigate to the code list:\n",
    "dataDS = requests.get(urlDS).json()['Structure']['CodeLists']['CodeList']#\n",
    "\n",
    "df = pd.DataFrame(dataDS[2]['Code']).set_index('@value')               # area names here\n",
    "area_names = {c : df['Description'].loc[c]['#text'] for c in df.index.values}\n",
    "\n",
    "df = pd.DataFrame(dataDS[3]['Code']).set_index('@value')               # indicator codes\n",
    "ifs_inds = {i : df['Description'].loc[i]['#text'] for i in df.index.values}\n",
    "\n",
    "df = pd.DataFrame(dataDS[0]['Code']).set_index('@value')               # unit codes\n",
    "unit_codes = {m : df['Annotations'].loc[m]['Annotation'][2]['AnnotationText']['#text'] \n",
    "              for m in df.index.values}\n",
    "# A csv file maps countries with missing price data to their regions, and this is read below:\n",
    "region_codes = pd.read_csv('region_codes.csv', header=None, index_col=0).to_dict()[1] # id'd manually"
   ]
  },
  {
   "cell_type": "markdown",
   "metadata": {},
   "source": [
    "#### Print out the full indicator names\n",
    "\n",
    "The full name of the indicator tells the unit of measurement."
   ]
  },
  {
   "cell_type": "code",
   "execution_count": 11,
   "metadata": {
    "collapsed": false
   },
   "outputs": [
    {
     "name": "stdout",
     "output_type": "stream",
     "text": [
      "EREER_IX: Real Effective Exchange Rate, based on Consumer Price Index, Index\n",
      "TXG_FOB_USD: Goods, Value of Exports, Free on board (FOB), US Dollars\n",
      "TXG_D_USD_FOB_IX: Goods, Deflator/Unit Value of Exports, Index, US Dollars, Index\n",
      "TMG_D_USD_CIF_IX: Goods, Deflator/Unit Value of Imports, US Dollars, Index\n"
     ]
    }
   ],
   "source": [
    "for k in inds.keys():                         # keys are the x, p, q values in inds\n",
    "    print inds[k]+': '+ifs_inds[inds[k]]      # print the indicator id and name"
   ]
  },
  {
   "cell_type": "markdown",
   "metadata": {},
   "source": [
    "#### Loop with API request for each indicator\n",
    "\n",
    "Using the IMF API, data on exports, prices, and exchange rates are collected for all available countries during 2008-2014. \n",
    "\n",
    "First raw data is requested for each indicator. \n",
    "\n",
    "Next, the units are adjusted to its multiplier (for example, if the value is 24 and the unit multiplier is 6, you effectively add six zeros or multiply by 1,000,000)."
   ]
  },
  {
   "cell_type": "code",
   "execution_count": 12,
   "metadata": {
    "collapsed": false
   },
   "outputs": [],
   "source": [
    "fd = {} # dictionary for saving each series from inds above\n",
    "unit_mult = {} # dictionary for saving unit multipliers by country and indicator\n",
    "for k, v in inds.iteritems(): # k is the key and v is the value\n",
    "    url = webserv+methodCD+series+'/'+freq+'..'+v+'.'+date # print url to see\n",
    "    # Build a dataframe for each indicator with the raw data from the IMF API:\n",
    "    df = pd.DataFrame(requests.get(url).json()\n",
    "                      ['CompactData']['DataSet']['Series']).set_index('@REF_AREA')\n",
    "    df['@UNIT_MULT'] = df['@UNIT_MULT'].map(unit_codes) # match unit codes with unit multipliers\n",
    "    df = df[df['Obs'].apply(lambda x: isinstance(x, list))] # drops empties\n",
    "    d = {} # temporary dict to save country by country dataframes\n",
    "    for c in df.index.values: # index values are countries (@REF_AREA) as set above\n",
    "        d[c] = pd.DataFrame(df.loc[c]['Obs']).rename(columns={'@TIME_PERIOD':'date'})\n",
    "        # Multiply units by unity multiplier value. \n",
    "        d[c]['@OBS_VALUE'] = pd.to_numeric(d[c]['@OBS_VALUE']) * int(df['@UNIT_MULT'][c]) \n",
    "    # Concatenate all country rows into one dataframe for each indicator:\n",
    "    fd[k]= pd.concat(d, axis=0).reset_index().set_index(['level_0','date']).drop('level_1', 1) "
   ]
  },
  {
   "cell_type": "markdown",
   "metadata": {},
   "source": [
    "#### Replace missing price data with regional data\n",
    "Price data is missing for many countries, however, an acceptable substitute is the regional values. I've manually mapped out which region (with full data) best matches with each country in the `region_codes` dictionary. To replace missing values, I loop through the dictionary and set the country value equal to the region value. \n",
    "\n",
    "The IMF area groupings are [here](https://www.imf.org/external/pubs/ft/weo/2016/02/weodata/groups.htm)."
   ]
  },
  {
   "cell_type": "code",
   "execution_count": 13,
   "metadata": {
    "collapsed": false
   },
   "outputs": [],
   "source": [
    "date_range = fd['xp'].loc['DE'].reset_index().date.values  # Germany selected (automate!)\n",
    "p_subinds = ['@BASE_YEAR' ,'@OBS_VALUE']       # To save space below var = sub indicators for prices\n",
    "for k, v in region_codes.iteritems():           # region_codes is a dict: {country code: region code}\n",
    "    for date in date_range:                     # repeate the replacement for each year in the data.\n",
    "        fd['mp'].loc[(k, date), p_subinds] = fd['mp'].loc[(v, date), p_subinds]\n",
    "        fd['xp'].loc[(k, date), p_subinds] = fd['xp'].loc[(v, date), p_subinds] "
   ]
  },
  {
   "cell_type": "markdown",
   "metadata": {},
   "source": [
    "#### Merge and save\n",
    "The `merged` dataframe combines all indicators as well as the full name of the country or area into one dataframe"
   ]
  },
  {
   "cell_type": "code",
   "execution_count": 14,
   "metadata": {
    "collapsed": true
   },
   "outputs": [],
   "source": [
    "# The last step is to merge the various indicator values (prices, exports, etc) into one dataframe        \n",
    "merged = pd.concat(fd, axis=1).reset_index() # combine all series to one merged dataframe\n",
    "merged['full_name'] = merged['level_0'].map(area_names)    # add column with full name of area\n",
    "merged = merged.set_index(['level_0','full_name','date'])  # set index to country and date\n",
    "merged.dropna().to_csv('imf_data.csv')                      # drop missing and save as csv file"
   ]
  },
  {
   "cell_type": "markdown",
   "metadata": {},
   "source": [
    "#### Find missing price data\n",
    "\n",
    "This optional code identifies countries that have data on exchange rates and trade but not on import/export prices. Countries with missing data can have data filled using regional values as a proxy."
   ]
  },
  {
   "cell_type": "code",
   "execution_count": 15,
   "metadata": {
    "collapsed": false
   },
   "outputs": [],
   "source": [
    "#merged = pd.concat(fd, axis=1).reset_index() # combine all series to one merged dataframe\n",
    "#merged['full_name'] = merged['level_0'].map(area_names)    # add column with full name of area\n",
    "#merged = merged.set_index(['level_0','full_name','date'])  # set index to country and date\n",
    "#merged = merged[merged['xp']['@BASE_YEAR'].isnull()]\n",
    "#missing = merged[merged['q']['@OBS_VALUE'] > 0].reset_index()['level_0'].unique()\n",
    "#for prod in missing:\n",
    "#    print prod"
   ]
  }
 ],
 "metadata": {
  "kernelspec": {
   "display_name": "Python 2",
   "language": "python",
   "name": "python2"
  },
  "language_info": {
   "codemirror_mode": {
    "name": "ipython",
    "version": 2
   },
   "file_extension": ".py",
   "mimetype": "text/x-python",
   "name": "python",
   "nbconvert_exporter": "python",
   "pygments_lexer": "ipython2",
   "version": "2.7.12"
  }
 },
 "nbformat": 4,
 "nbformat_minor": 0
}
