{
 "cells": [
  {
   "cell_type": "markdown",
   "metadata": {},
   "source": [
    "# Trade network analysis\n",
    "**Brian Dew (brianwdew@gmail.com)**\n",
    "\n",
    "**04_imfdata.ipynb**\n",
    "\n",
    "Using the IMF API, data on exports, prices, and exchange rates are collected for all available countries during 2008-2014.\n",
    "\n",
    "METODO: Annotate and clean method2 section - can I use a loop?"
   ]
  },
  {
   "cell_type": "markdown",
   "metadata": {},
   "source": [
    "#### Import packages"
   ]
  },
  {
   "cell_type": "code",
   "execution_count": 2,
   "metadata": {
    "collapsed": true
   },
   "outputs": [],
   "source": [
    "import requests                                             # For requesting json data from the url\n",
    "import pandas as pd                                         # pandas dataframes used for convenience\n",
    "import os                                                   # change current directory in next line\n",
    "os.chdir('C:/Working/trade_network/data/')"
   ]
  },
  {
   "cell_type": "markdown",
   "metadata": {},
   "source": [
    "#### settings for API request"
   ]
  },
  {
   "cell_type": "code",
   "execution_count": 3,
   "metadata": {
    "collapsed": false
   },
   "outputs": [],
   "source": [
    "webserv = 'http://dataservices.imf.org/REST/SDMX_JSON.svc/' # the main URL for the JSON rest API\n",
    "method = 'CompactData/'                                     # Data is stored here. Datastructure has info\n",
    "series = 'IFS'                                              # International Financial Statistics series\n",
    "freq = 'A'                                                  # Annual\n",
    "inds = {'x': 'TXG_FOB_USD', 'q': 'EREER_IX', 'p': 'TMG_D_USD_CIF_IX'}  # Set of IFS indicators of interest \n",
    "date = '?startPeriod=2008&endPeriod=2014'                   # Date range of interest"
   ]
  },
  {
   "cell_type": "markdown",
   "metadata": {},
   "source": [
    "Gather additional dictionaries with country and indicator codes. CLEAN UP and ANNOTATE"
   ]
  },
  {
   "cell_type": "code",
   "execution_count": 108,
   "metadata": {
    "collapsed": false
   },
   "outputs": [],
   "source": [
    "method2 = 'DataStructure/' # This method gives info on the country names, units, and indicator names\n",
    "url2 = webserv+method2+series   # url to access IMF datastructure method API\n",
    "data1 = requests.get(url2).json()['Structure']['CodeLists']['CodeList'][2]['Code'] # area names here\n",
    "data2 = requests.get(url2).json()['Structure']['CodeLists']['CodeList'][3]['Code'] # indicator codes\n",
    "data3 = requests.get(url2).json()['Structure']['CodeLists']['CodeList'][0]['Code'] # unit codes\n",
    "df = pd.DataFrame(data1).set_index('@value')\n",
    "area_names = {c : df['Description'].loc[c]['#text'] for c in df.index.values}\n",
    "df = pd.DataFrame(data2).set_index('@value')\n",
    "ifs_inds = {i : df['Description'].loc[i]['#text'] for i in df.index.values}\n",
    "df = pd.DataFrame(data3).set_index('@value')\n",
    "unit_codes = {m : df['Annotations'].loc[m]['Annotation'][2]['AnnotationText']['#text'] for m in df.index.values}"
   ]
  },
  {
   "cell_type": "markdown",
   "metadata": {},
   "source": [
    "Print out the full indicator names"
   ]
  },
  {
   "cell_type": "code",
   "execution_count": 88,
   "metadata": {
    "collapsed": false
   },
   "outputs": [
    {
     "name": "stdout",
     "output_type": "stream",
     "text": [
      "EREER_IX: Real Effective Exchange Rate, based on Consumer Price Index, Index\n",
      "TXG_FOB_USD: Goods, Value of Exports, Free on board (FOB), US Dollars\n",
      "TMG_D_USD_CIF_IX: Goods, Deflator/Unit Value of Imports, US Dollars, Index\n"
     ]
    }
   ],
   "source": [
    "for k in inds.keys():                         # keys are the x, p, q values in inds\n",
    "    print inds[k]+': '+ifs_inds[inds[k]]      # print the indicator id and name"
   ]
  },
  {
   "cell_type": "markdown",
   "metadata": {},
   "source": [
    "#### Loop with API request for each indicators"
   ]
  },
  {
   "cell_type": "code",
   "execution_count": 181,
   "metadata": {
    "collapsed": false
   },
   "outputs": [],
   "source": [
    "fd = {} # dictionary for saving each series from inds above\n",
    "unit_mult = {} # dictionary for saving unit multipliers by country and indicator\n",
    "for k, v in inds.iteritems(): # k is the key and v is the value\n",
    "    url = webserv+method+series+'/'+freq+'..'+v+'.'+date # print url to see\n",
    "    df = pd.DataFrame(requests.get(url).json()['CompactData']['DataSet']['Series']).set_index('@REF_AREA')\n",
    "    df['@UNIT_MULT'] = df['@UNIT_MULT'].map(unit_codes) # match unit codes with unit multipliers\n",
    "    df = df[df['Obs'].apply(lambda x: isinstance(x, list))] # drops empties\n",
    "    d = {} # temporary dict to save country by country dataframes\n",
    "    for c in df.index.values: # index values are countries (@REF_AREA) as set above\n",
    "        d[c] = pd.DataFrame(df.loc[c]['Obs']).rename(columns={'@TIME_PERIOD':'date'})\n",
    "        d[c]['date'] = pd.to_datetime(d[c]['date'].values) # set dates as datetime for index\n",
    "        d[c]['@OBS_VALUE'] = pd.to_numeric(d[c]['@OBS_VALUE']) * int(df['@UNIT_MULT'][c]) # adjust units\n",
    "    fd[k]= pd.concat(d, axis=0).reset_index().set_index(['level_0','date']).drop('level_1', 1)\n",
    "merged = pd.concat(fd, axis=1).reset_index() # combine all series to one merged dataframe\n",
    "merged['full_name'] = merged['level_0'].map(area_names)    # add column with full name of area\n",
    "merged = merged.set_index(['level_0','full_name','date'])  # set index to country and date"
   ]
  }
 ],
 "metadata": {
  "kernelspec": {
   "display_name": "Python 2",
   "language": "python",
   "name": "python2"
  },
  "language_info": {
   "codemirror_mode": {
    "name": "ipython",
    "version": 2
   },
   "file_extension": ".py",
   "mimetype": "text/x-python",
   "name": "python",
   "nbconvert_exporter": "python",
   "pygments_lexer": "ipython2",
   "version": "2.7.10"
  }
 },
 "nbformat": 4,
 "nbformat_minor": 0
}
