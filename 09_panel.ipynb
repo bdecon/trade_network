{
 "cells": [
  {
   "cell_type": "markdown",
   "metadata": {},
   "source": [
    "# Trade Network Analysis\n",
    "`09_panel.ipynb`\n",
    "\n",
    "Requires:\n",
    "1. `imports_decomp.csv` from `08_import_decomp.ipynb`\n",
    "2. `imf_data.csv` from `04_imfdata.ipynb`\n",
    "\n",
    "Runs an OLS regression on the panel data above, with time fixed effects. The estimated equation is:\n",
    "\n",
    "$$ \\Delta \\text{ln} X_{i,t} = \\delta_{t} + \\beta_1 \\Delta \\text{ln} X_{i,t-1} + \\beta_2 \\Delta q_{i,t-1} + \\beta_3 m^{cs}_{i,t-1} + \\beta_4 m^{ns}_{i,t-1} + \\beta_5 m^{cn}_{i,t-1} + \\varepsilon_{i,t} $$ \n",
    "\n",
    "---\n",
    "\n",
    "METODO:\n",
    "1. Improve description\n",
    "2. Review for errors!\n",
    "3. Statsmodels instead of pandas!"
   ]
  },
  {
   "cell_type": "markdown",
   "metadata": {},
   "source": [
    "#### Libraries"
   ]
  },
  {
   "cell_type": "code",
   "execution_count": 22,
   "metadata": {
    "collapsed": true
   },
   "outputs": [],
   "source": [
    "import pandas as pd                                         # pandas dataframes used for convenience\n",
    "from pandas.stats.plm import PanelOLS\n",
    "import numpy as np\n",
    "import os                                                   # change current directory in next line\n",
    "os.chdir('C:/Working/trade_network/data/')"
   ]
  },
  {
   "cell_type": "markdown",
   "metadata": {},
   "source": [
    "Load IMF data"
   ]
  },
  {
   "cell_type": "code",
   "execution_count": 23,
   "metadata": {
    "collapsed": false
   },
   "outputs": [],
   "source": [
    "decomp = pd.read_csv('imports_decomp.csv')\n",
    "decomp = decomp.rename(columns={'Unnamed: 0': 'date', 'j': 'iso2'})\n",
    "decomp['date'] = decomp['date'].apply(str)\n",
    "decomp = decomp.set_index(['date', 'iso2'])\n",
    "df = pd.read_csv('imf_data.csv', index_col=[0,1,2,3], skipinitialspace=True).reset_index()[2:]\n",
    "df = df.rename(columns={'level_0': 'iso2', 'Unnamed: 1': 'full_name', 'Unnamed: 2':'date', 'mp': 'mp_base', \n",
    "                        'mp.1': 'mp',  'xp': 'xp_base', 'xp.1': 'xp'})\n",
    "df = df.set_index(['date', 'iso2'])\n",
    "panel = df.join(decomp)\n",
    "for v in ['q', 'x', 'xp', 'mp']:\n",
    "    panel[v] = panel[v].apply(float) # replace country names"
   ]
  },
  {
   "cell_type": "markdown",
   "metadata": {},
   "source": [
    "#### Deflate USD values with price indices"
   ]
  },
  {
   "cell_type": "code",
   "execution_count": 24,
   "metadata": {
    "collapsed": false,
    "scrolled": true
   },
   "outputs": [],
   "source": [
    "deflators = {'x': 'xp', 'cs': 'mp', 'ns': 'mp', 'cn': 'mp', 'nn': 'mp'}\n",
    "for k, v in deflators.iteritems():\n",
    "    panel[k+'_def'] = np.log(panel[k] * (panel[v] / 100))\n",
    "    panel[k+'_ndef'] = panel[k] * (panel[v] / 100)\n",
    "panel['q_ch'] = panel['q'].groupby(df.index.get_level_values(1)).pct_change()"
   ]
  },
  {
   "cell_type": "code",
   "execution_count": 25,
   "metadata": {
    "collapsed": false
   },
   "outputs": [],
   "source": [
    "panel['x_ch'] = panel['x_def'].groupby(df.index.get_level_values(1)).diff(periods=1)\n",
    "panel = panel#.dropna()\n",
    "\n",
    "# Drop unbalanced countries\n",
    "obs_size = pd.DataFrame(panel.groupby('full_name').size())\n",
    "panel = panel.join(obs_size, on='full_name')\n",
    "panel = panel[panel[0] == panel[0].max()]\n",
    "\n",
    "country_list = pd.read_csv('oil_temp/c_list.csv', header=None)[0].values\n",
    "panel2 = panel.reset_index()\n",
    "panel2 = panel2[panel2['iso2'].isin(country_list)]\n",
    "\n",
    "panel.to_csv('panel.csv')\n",
    "panel2.to_csv('panel2.csv')"
   ]
  },
  {
   "cell_type": "code",
   "execution_count": 5,
   "metadata": {
    "collapsed": false
   },
   "outputs": [],
   "source": [
    "#reg  = PanelOLS(y=panel['x_ch'],x=panel[['x_def', 'q', 'cs_def', 'ns_def', 'cn_def']],time_effects=True)\n",
    "#reg"
   ]
  }
 ],
 "metadata": {
  "kernelspec": {
   "display_name": "Python 2",
   "language": "python",
   "name": "python2"
  },
  "language_info": {
   "codemirror_mode": {
    "name": "ipython",
    "version": 2
   },
   "file_extension": ".py",
   "mimetype": "text/x-python",
   "name": "python",
   "nbconvert_exporter": "python",
   "pygments_lexer": "ipython2",
   "version": "2.7.12"
  }
 },
 "nbformat": 4,
 "nbformat_minor": 0
}
